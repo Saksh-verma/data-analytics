{
 "cells": [
  {
   "cell_type": "code",
   "execution_count": 181,
   "id": "072ac211-5bd5-4bc4-9062-04605666c8b3",
   "metadata": {},
   "outputs": [],
   "source": [
    "import pandas as pd\n",
    "import numpy as np\n",
    "import matplotlib.pyplot as plt\n",
    "import seaborn as sns"
   ]
  },
  {
   "cell_type": "code",
   "execution_count": 182,
   "id": "5e36e8eb-3693-4007-9c95-3808b060ce12",
   "metadata": {},
   "outputs": [],
   "source": [
    "df = pd.read_csv('netflix.csv', encoding='latin1')"
   ]
  },
  {
   "cell_type": "code",
   "execution_count": 183,
   "id": "4d5da0e2-b589-4847-bb60-637c7eb63835",
   "metadata": {},
   "outputs": [
    {
     "name": "stdout",
     "output_type": "stream",
     "text": [
      "Dataset loaded successfully!\n"
     ]
    }
   ],
   "source": [
    "#Data Exploration\n",
    "# Check if the data loaded correctly\n",
    "print(\"Dataset loaded successfully!\")\n"
   ]
  },
  {
   "cell_type": "code",
   "execution_count": 184,
   "id": "df52f667-3614-4ae4-b247-832914b8de25",
   "metadata": {},
   "outputs": [
    {
     "name": "stdout",
     "output_type": "stream",
     "text": [
      "First 5 rows:\n",
      "  show_id     type                  title         director  \\\n",
      "0      s1    Movie   Dick Johnson Is Dead  Kirsten Johnson   \n",
      "1      s2  TV Show          Blood & Water              NaN   \n",
      "2      s3  TV Show              Ganglands  Julien Leclercq   \n",
      "3      s4  TV Show  Jailbirds New Orleans              NaN   \n",
      "4      s5  TV Show           Kota Factory              NaN   \n",
      "\n",
      "                                                cast        country  \\\n",
      "0                                                NaN  United States   \n",
      "1  Ama Qamata, Khosi Ngema, Gail Mabalane, Thaban...   South Africa   \n",
      "2  Sami Bouajila, Tracy Gotoas, Samuel Jouy, Nabi...            NaN   \n",
      "3                                                NaN            NaN   \n",
      "4  Mayur More, Jitendra Kumar, Ranjan Raj, Alam K...          India   \n",
      "\n",
      "           date_added  release_year rating   duration  \\\n",
      "0  September 25, 2021          2020  PG-13     90 min   \n",
      "1  September 24, 2021          2021  TV-MA  2 Seasons   \n",
      "2  September 24, 2021          2021  TV-MA   1 Season   \n",
      "3  September 24, 2021          2021  TV-MA   1 Season   \n",
      "4  September 24, 2021          2021  TV-MA  2 Seasons   \n",
      "\n",
      "                                           listed_in  \\\n",
      "0                                      Documentaries   \n",
      "1    International TV Shows, TV Dramas, TV Mysteries   \n",
      "2  Crime TV Shows, International TV Shows, TV Act...   \n",
      "3                             Docuseries, Reality TV   \n",
      "4  International TV Shows, Romantic TV Shows, TV ...   \n",
      "\n",
      "                                         description  \n",
      "0  As her father nears the end of his life, filmm...  \n",
      "1  After crossing paths at a party, a Cape Town t...  \n",
      "2  To protect his family from a powerful drug lor...  \n",
      "3  Feuds, flirtations and toilet talk go down amo...  \n",
      "4  In a city of coaching centers known to train I...  \n",
      "\n",
      "Last 5 rows:\n",
      "     show_id     type               title         director  \\\n",
      "8804   s8805    Movie          Zombieland  Ruben Fleischer   \n",
      "8805   s8806    Movie                Zoom     Peter Hewitt   \n",
      "8806   s8807    Movie              Zubaan      Mozez Singh   \n",
      "8807   s8808  TV Show  Parasyte: The Grey     Yeon Sang-ho   \n",
      "8808   s8809    Movie              Serena     Susanne Bier   \n",
      "\n",
      "                                                   cast        country  \\\n",
      "8804  Jesse Eisenberg, Woody Harrelson, Emma Stone, ...  United States   \n",
      "8805  Tim Allen, Courteney Cox, Chevy Chase, Kate Ma...  United States   \n",
      "8806  Vicky Kaushal, Sarah-Jane Dias, Raaghav Chanan...          India   \n",
      "8807         Shin Hyun-been, Jeon Yeo-bin, Goo Kyo-hwan    South Korea   \n",
      "8808  Bradley Cooper, Jennifer Lawrence, Toby Jones,...  United States   \n",
      "\n",
      "            date_added  release_year rating  duration  \\\n",
      "8804  November 1, 2019          2009      R    88 min   \n",
      "8805  January 11, 2020          2006     PG    88 min   \n",
      "8806     March 2, 2019          2015  TV-14   111 min   \n",
      "8807     April 5, 2024          2024  TV-MA  1 Season   \n",
      "8808     April 5, 2024          2014      A   110 min   \n",
      "\n",
      "                                           listed_in  \\\n",
      "8804                         Comedies, Horror Movies   \n",
      "8805              Children & Family Movies, Comedies   \n",
      "8806  Dramas, International Movies, Music & Musicals   \n",
      "8807                          Sci-fi, Horror, Action   \n",
      "8808                        Drama, Romance, Thriller   \n",
      "\n",
      "                                            description  \n",
      "8804  Looking to survive in a world taken over by zo...  \n",
      "8805  Dragged from civilian life, a former superhero...  \n",
      "8806  A scrappy but poor boy worms his way into a ty...  \n",
      "8807  A new breed of parasitic aliens arrive on Eart...  \n",
      "8808  In the 1920s, a newly married couple attempt t...  \n"
     ]
    }
   ],
   "source": [
    "print(\"First 5 rows:\")\n",
    "print(df.head())\n",
    "\n",
    "print(\"\\nLast 5 rows:\")\n",
    "print(df.tail())\n",
    "\n"
   ]
  },
  {
   "cell_type": "code",
   "execution_count": 185,
   "id": "1e76d98c-9173-4e83-b501-ff3e2f9e2e79",
   "metadata": {},
   "outputs": [
    {
     "name": "stdout",
     "output_type": "stream",
     "text": [
      "Shape of the dataset (rows, columns): (8809, 12)\n"
     ]
    }
   ],
   "source": [
    "print(\"Shape of the dataset (rows, columns):\", df.shape)"
   ]
  },
  {
   "cell_type": "code",
   "execution_count": 186,
   "id": "99531962-e01f-471e-8308-3bb646eeb803",
   "metadata": {},
   "outputs": [
    {
     "name": "stdout",
     "output_type": "stream",
     "text": [
      "Column names:\n",
      "Index(['show_id', 'type', 'title', 'director', 'cast', 'country', 'date_added',\n",
      "       'release_year', 'rating', 'duration', 'listed_in', 'description'],\n",
      "      dtype='object')\n",
      "\n",
      "Data types of each column:\n",
      "show_id         object\n",
      "type            object\n",
      "title           object\n",
      "director        object\n",
      "cast            object\n",
      "country         object\n",
      "date_added      object\n",
      "release_year     int64\n",
      "rating          object\n",
      "duration        object\n",
      "listed_in       object\n",
      "description     object\n",
      "dtype: object\n"
     ]
    }
   ],
   "source": [
    "print(\"Column names:\")\n",
    "print(df.columns)\n",
    "\n",
    "print(\"\\nData types of each column:\")\n",
    "print(df.dtypes)\n"
   ]
  },
  {
   "cell_type": "code",
   "execution_count": 187,
   "id": "8e674028-8744-4a8a-b33b-2d23c100d21a",
   "metadata": {},
   "outputs": [
    {
     "name": "stdout",
     "output_type": "stream",
     "text": [
      "Missing values count:\n",
      "show_id            0\n",
      "type               0\n",
      "title              0\n",
      "director        2634\n",
      "cast             825\n",
      "country          831\n",
      "date_added        10\n",
      "release_year       0\n",
      "rating             4\n",
      "duration           3\n",
      "listed_in          0\n",
      "description        0\n",
      "dtype: int64\n"
     ]
    }
   ],
   "source": [
    "print(\"Missing values count:\")\n",
    "print(df.isnull().sum())"
   ]
  },
  {
   "cell_type": "code",
   "execution_count": 188,
   "id": "ad71c900-a848-4a25-95a4-925f2e3195c1",
   "metadata": {},
   "outputs": [
    {
     "name": "stdout",
     "output_type": "stream",
     "text": [
      "Summary statistics for numerical columns:\n",
      "       release_year\n",
      "count   8809.000000\n",
      "mean    2014.181292\n",
      "std        8.818932\n",
      "min     1925.000000\n",
      "25%     2013.000000\n",
      "50%     2017.000000\n",
      "75%     2019.000000\n",
      "max     2024.000000\n"
     ]
    }
   ],
   "source": [
    "print(\"Summary statistics for numerical columns:\")\n",
    "print(df.describe())\n"
   ]
  },
  {
   "cell_type": "code",
   "execution_count": 197,
   "id": "850c0048-5811-43b0-85e1-63a950dcf616",
   "metadata": {},
   "outputs": [
    {
     "name": "stdout",
     "output_type": "stream",
     "text": [
      "Number of duplicate rows: 0\n",
      "Duplicates removed. New shape: (8809, 12)\n"
     ]
    }
   ],
   "source": [
    "# Find duplicate rows\n",
    "print(\"Number of duplicate rows:\", df.duplicated().sum())\n",
    "\n",
    "# Remove duplicates\n",
    "df = df.drop_duplicates()\n",
    "print(\"Duplicates removed. New shape:\", df.shape)\n"
   ]
  },
  {
   "cell_type": "code",
   "execution_count": 199,
   "id": "fc698b11-35d0-44c1-a439-c75a7353f1d9",
   "metadata": {},
   "outputs": [
    {
     "name": "stdout",
     "output_type": "stream",
     "text": [
      "Count of unique values in each column:\n",
      "show_id         8809\n",
      "type               2\n",
      "title           8806\n",
      "director        4529\n",
      "cast            7694\n",
      "country          748\n",
      "date_added      1768\n",
      "release_year      75\n",
      "rating            18\n",
      "duration         220\n",
      "listed_in        516\n",
      "description     8777\n",
      "dtype: int64\n"
     ]
    }
   ],
   "source": [
    "print(\"Count of unique values in each column:\")\n",
    "print(df.nunique())"
   ]
  },
  {
   "cell_type": "code",
   "execution_count": 201,
   "id": "a3296561-fd27-4d79-a705-fa67898469e5",
   "metadata": {},
   "outputs": [
    {
     "name": "stdout",
     "output_type": "stream",
     "text": [
      "Count of unique values in each column:\n",
      "show_id         8809\n",
      "type               2\n",
      "title           8806\n",
      "director        4529\n",
      "cast            7694\n",
      "country          748\n",
      "date_added      1768\n",
      "release_year      75\n",
      "rating            18\n",
      "duration         220\n",
      "listed_in        516\n",
      "description     8777\n",
      "dtype: int64\n"
     ]
    }
   ],
   "source": [
    "print(\"Count of unique values in each column:\")\n",
    "print(df.nunique())"
   ]
  },
  {
   "cell_type": "code",
   "execution_count": 203,
   "id": "49d2af3d-cc28-48e1-8c1b-de4bb5326652",
   "metadata": {},
   "outputs": [
    {
     "name": "stdout",
     "output_type": "stream",
     "text": [
      "Missing values filled with column means.\n"
     ]
    }
   ],
   "source": [
    "#Data Cleaning\n",
    "# Fill missing values in all numerical columns with their mean\n",
    "df.fillna(df.mean(numeric_only=True), inplace=True)\n",
    "\n",
    "print(\"Missing values filled with column means.\")\n"
   ]
  },
  {
   "cell_type": "code",
   "execution_count": 205,
   "id": "57627bc1-3faf-46b5-b0cc-1d654b037701",
   "metadata": {},
   "outputs": [
    {
     "name": "stdout",
     "output_type": "stream",
     "text": [
      "Rows with missing values dropped. New shape: (5334, 12)\n"
     ]
    }
   ],
   "source": [
    "# Remove rows containing any null value\n",
    "df_cleaned = df.dropna()\n",
    "\n",
    "print(\"Rows with missing values dropped. New shape:\", df_cleaned.shape)\n"
   ]
  },
  {
   "cell_type": "code",
   "execution_count": 207,
   "id": "44e67f77-d90f-4664-9d67-c8584e8dbeab",
   "metadata": {},
   "outputs": [
    {
     "name": "stdout",
     "output_type": "stream",
     "text": [
      "Replaced 'NA' with NaN.\n"
     ]
    }
   ],
   "source": [
    "# Replace 'NA' values with NaN\n",
    "df.replace('NA', np.nan, inplace=True)\n",
    "\n",
    "print(\"Replaced 'NA' with NaN.\")\n"
   ]
  },
  {
   "cell_type": "code",
   "execution_count": 209,
   "id": "b9625565-5379-45bf-a48e-bed2c98aab67",
   "metadata": {},
   "outputs": [
    {
     "name": "stdout",
     "output_type": "stream",
     "text": [
      "Column 'date_added' removed.\n"
     ]
    }
   ],
   "source": [
    "#Remove a specific column from the dataset.\n",
    "df.drop(columns=['date_added'], inplace=True)\n",
    "\n",
    "print(\"Column 'date_added' removed.\")\n"
   ]
  },
  {
   "cell_type": "code",
   "execution_count": 211,
   "id": "a574b7a4-4cd5-4973-a062-484010d3298c",
   "metadata": {},
   "outputs": [
    {
     "name": "stdout",
     "output_type": "stream",
     "text": [
      "Column renamed successfully.\n"
     ]
    }
   ],
   "source": [
    "# Rename a column from 'old_name' to 'new_name'\n",
    "df.rename(columns={'country': 'origin'}, inplace=True)\n",
    "\n",
    "print(\"Column renamed successfully.\")"
   ]
  },
  {
   "cell_type": "code",
   "execution_count": 213,
   "id": "ab9c85de-21ea-48ce-888b-4eb6216128fc",
   "metadata": {},
   "outputs": [
    {
     "name": "stdout",
     "output_type": "stream",
     "text": [
      "director column (or equivalent):\n",
      "0       Kirsten Johnson\n",
      "1                   NaN\n",
      "2       Julien Leclercq\n",
      "3                   NaN\n",
      "4                   NaN\n",
      "             ...       \n",
      "8804    Ruben Fleischer\n",
      "8805       Peter Hewitt\n",
      "8806        Mozez Singh\n",
      "8807       Yeon Sang-ho\n",
      "8808       Susanne Bier\n",
      "Name: director, Length: 8809, dtype: object\n"
     ]
    }
   ],
   "source": [
    "#Data Selection and Filtering\n",
    "print(\"director column (or equivalent):\")\n",
    "print(df['director'])\n"
   ]
  },
  {
   "cell_type": "code",
   "execution_count": 215,
   "id": "d8f8eda7-e99e-4414-8fab-34edf04c1c76",
   "metadata": {},
   "outputs": [
    {
     "name": "stdout",
     "output_type": "stream",
     "text": [
      "Selected Name and City columns:\n",
      "                      title         origin\n",
      "0      Dick Johnson Is Dead  United States\n",
      "1             Blood & Water   South Africa\n",
      "2                 Ganglands            NaN\n",
      "3     Jailbirds New Orleans            NaN\n",
      "4              Kota Factory          India\n",
      "...                     ...            ...\n",
      "8804             Zombieland  United States\n",
      "8805                   Zoom  United States\n",
      "8806                 Zubaan          India\n",
      "8807     Parasyte: The Grey    South Korea\n",
      "8808                 Serena  United States\n",
      "\n",
      "[8809 rows x 2 columns]\n"
     ]
    }
   ],
   "source": [
    "print(\"Selected Name and City columns:\")\n",
    "print(df[['title', 'origin']])\n"
   ]
  },
  {
   "cell_type": "code",
   "execution_count": 217,
   "id": "178f9e43-c8e8-40d8-ac6b-be3f9d05e7cb",
   "metadata": {},
   "outputs": [
    {
     "name": "stdout",
     "output_type": "stream",
     "text": [
      "Rows where release_year is greater than 2009:\n",
      "     show_id     type                  title         director  \\\n",
      "0         s1    Movie   Dick Johnson Is Dead  Kirsten Johnson   \n",
      "1         s2  TV Show          Blood & Water              NaN   \n",
      "2         s3  TV Show              Ganglands  Julien Leclercq   \n",
      "3         s4  TV Show  Jailbirds New Orleans              NaN   \n",
      "4         s5  TV Show           Kota Factory              NaN   \n",
      "...      ...      ...                    ...              ...   \n",
      "8801   s8802    Movie                Zinzana  Majid Al Ansari   \n",
      "8803   s8804  TV Show            Zombie Dumb              NaN   \n",
      "8806   s8807    Movie                 Zubaan      Mozez Singh   \n",
      "8807   s8808  TV Show     Parasyte: The Grey     Yeon Sang-ho   \n",
      "8808   s8809    Movie                 Serena     Susanne Bier   \n",
      "\n",
      "                                                   cast  \\\n",
      "0                                                   NaN   \n",
      "1     Ama Qamata, Khosi Ngema, Gail Mabalane, Thaban...   \n",
      "2     Sami Bouajila, Tracy Gotoas, Samuel Jouy, Nabi...   \n",
      "3                                                   NaN   \n",
      "4     Mayur More, Jitendra Kumar, Ranjan Raj, Alam K...   \n",
      "...                                                 ...   \n",
      "8801  Ali Suliman, Saleh Bakri, Yasa, Ali Al-Jabri, ...   \n",
      "8803                                                NaN   \n",
      "8806  Vicky Kaushal, Sarah-Jane Dias, Raaghav Chanan...   \n",
      "8807         Shin Hyun-been, Jeon Yeo-bin, Goo Kyo-hwan   \n",
      "8808  Bradley Cooper, Jennifer Lawrence, Toby Jones,...   \n",
      "\n",
      "                            origin  release_year rating   duration  \\\n",
      "0                    United States          2020  PG-13     90 min   \n",
      "1                     South Africa          2021  TV-MA  2 Seasons   \n",
      "2                              NaN          2021  TV-MA   1 Season   \n",
      "3                              NaN          2021  TV-MA   1 Season   \n",
      "4                            India          2021  TV-MA  2 Seasons   \n",
      "...                            ...           ...    ...        ...   \n",
      "8801  United Arab Emirates, Jordan          2015  TV-MA     96 min   \n",
      "8803                           NaN          2018  TV-Y7  2 Seasons   \n",
      "8806                         India          2015  TV-14    111 min   \n",
      "8807                   South Korea          2024  TV-MA   1 Season   \n",
      "8808                 United States          2014      A    110 min   \n",
      "\n",
      "                                              listed_in  \\\n",
      "0                                         Documentaries   \n",
      "1       International TV Shows, TV Dramas, TV Mysteries   \n",
      "2     Crime TV Shows, International TV Shows, TV Act...   \n",
      "3                                Docuseries, Reality TV   \n",
      "4     International TV Shows, Romantic TV Shows, TV ...   \n",
      "...                                                 ...   \n",
      "8801            Dramas, International Movies, Thrillers   \n",
      "8803             Kids' TV, Korean TV Shows, TV Comedies   \n",
      "8806     Dramas, International Movies, Music & Musicals   \n",
      "8807                             Sci-fi, Horror, Action   \n",
      "8808                           Drama, Romance, Thriller   \n",
      "\n",
      "                                            description  \n",
      "0     As her father nears the end of his life, filmm...  \n",
      "1     After crossing paths at a party, a Cape Town t...  \n",
      "2     To protect his family from a powerful drug lor...  \n",
      "3     Feuds, flirtations and toilet talk go down amo...  \n",
      "4     In a city of coaching centers known to train I...  \n",
      "...                                                 ...  \n",
      "8801  Recovering alcoholic Talal wakes up inside a s...  \n",
      "8803  While living alone in a spooky town, a young g...  \n",
      "8806  A scrappy but poor boy worms his way into a ty...  \n",
      "8807  A new breed of parasitic aliens arrive on Eart...  \n",
      "8808  In the 1920s, a newly married couple attempt t...  \n",
      "\n",
      "[7474 rows x 11 columns]\n"
     ]
    }
   ],
   "source": [
    "print(\"Rows where release_year is greater than 2009:\")\n",
    "print(df[df['release_year'] > 2009])\n"
   ]
  },
  {
   "cell_type": "code",
   "execution_count": 219,
   "id": "404161cd-f31a-47cb-9b25-4e0f806335b4",
   "metadata": {},
   "outputs": [
    {
     "name": "stdout",
     "output_type": "stream",
     "text": [
      "Rows where Origin is \"United States\":\n",
      "     show_id     type                 title         director  \\\n",
      "0         s1    Movie  Dick Johnson Is Dead  Kirsten Johnson   \n",
      "9        s10    Movie          The Starling   Theodore Melfi   \n",
      "15       s16  TV Show     Dear White People              NaN   \n",
      "27       s28    Movie             Grown Ups     Dennis Dugan   \n",
      "28       s29    Movie            Dark Skies    Scott Stewart   \n",
      "...      ...      ...                   ...              ...   \n",
      "8793   s8794    Movie  Yours, Mine and Ours     Raja Gosnell   \n",
      "8802   s8803    Movie                Zodiac    David Fincher   \n",
      "8804   s8805    Movie            Zombieland  Ruben Fleischer   \n",
      "8805   s8806    Movie                  Zoom     Peter Hewitt   \n",
      "8808   s8809    Movie                Serena     Susanne Bier   \n",
      "\n",
      "                                                   cast         origin  \\\n",
      "0                                                   NaN  United States   \n",
      "9     Melissa McCarthy, Chris O'Dowd, Kevin Kline, T...  United States   \n",
      "15    Logan Browning, Brandon P. Bell, DeRon Horton,...  United States   \n",
      "27    Adam Sandler, Kevin James, Chris Rock, David S...  United States   \n",
      "28    Keri Russell, Josh Hamilton, J.K. Simmons, Dak...  United States   \n",
      "...                                                 ...            ...   \n",
      "8793  Dennis Quaid, Rene Russo, Sean Faris, Katija P...  United States   \n",
      "8802  Mark Ruffalo, Jake Gyllenhaal, Robert Downey J...  United States   \n",
      "8804  Jesse Eisenberg, Woody Harrelson, Emma Stone, ...  United States   \n",
      "8805  Tim Allen, Courteney Cox, Chevy Chase, Kate Ma...  United States   \n",
      "8808  Bradley Cooper, Jennifer Lawrence, Toby Jones,...  United States   \n",
      "\n",
      "      release_year rating   duration                           listed_in  \\\n",
      "0             2020  PG-13     90 min                       Documentaries   \n",
      "9             2021  PG-13    104 min                    Comedies, Dramas   \n",
      "15            2021  TV-MA  4 Seasons              TV Comedies, TV Dramas   \n",
      "27            2010  PG-13    103 min                            Comedies   \n",
      "28            2013  PG-13     97 min     Horror Movies, Sci-Fi & Fantasy   \n",
      "...            ...    ...        ...                                 ...   \n",
      "8793          2005     PG     88 min  Children & Family Movies, Comedies   \n",
      "8802          2007      R    158 min      Cult Movies, Dramas, Thrillers   \n",
      "8804          2009      R     88 min             Comedies, Horror Movies   \n",
      "8805          2006     PG     88 min  Children & Family Movies, Comedies   \n",
      "8808          2014      A    110 min            Drama, Romance, Thriller   \n",
      "\n",
      "                                            description  \n",
      "0     As her father nears the end of his life, filmm...  \n",
      "9     A woman adjusting to life after a loss contend...  \n",
      "15    Students of color navigate the daily slights a...  \n",
      "27    Mourning the loss of their beloved junior high...  \n",
      "28    A familyâs idyllic suburban life shatters wh...  \n",
      "...                                                 ...  \n",
      "8793  When a father of eight and a mother of 10 prep...  \n",
      "8802  A political cartoonist, a crime reporter and a...  \n",
      "8804  Looking to survive in a world taken over by zo...  \n",
      "8805  Dragged from civilian life, a former superhero...  \n",
      "8808  In the 1920s, a newly married couple attempt t...  \n",
      "\n",
      "[2819 rows x 11 columns]\n"
     ]
    }
   ],
   "source": [
    "print('Rows where Origin is \"United States\":')\n",
    "print(df[df['origin'] == 'United States'])\n"
   ]
  },
  {
   "cell_type": "code",
   "execution_count": 221,
   "id": "789ddbf5-a41f-4ad0-8c27-c8c724a989aa",
   "metadata": {},
   "outputs": [
    {
     "name": "stdout",
     "output_type": "stream",
     "text": [
      "DataFrame sorted by release_year in ascending order:\n",
      "     show_id     type                                          title  \\\n",
      "4250   s4251  TV Show              Pioneers: First Women Filmmakers*   \n",
      "7790   s7791    Movie                                 Prelude to War   \n",
      "8205   s8206    Movie                           The Battle of Midway   \n",
      "8660   s8661    Movie  Undercover: How to Operate Behind Enemy Lines   \n",
      "8763   s8764    Movie                WWII: Report from the Aleutians   \n",
      "...      ...      ...                                            ...   \n",
      "857     s858  TV Show                                   The Neighbor   \n",
      "855     s856  TV Show                 Jurassic World Camp Cretaceous   \n",
      "853     s854    Movie                               Army of the Dead   \n",
      "965     s966  TV Show                                         Yasuke   \n",
      "8807   s8808  TV Show                             Parasyte: The Grey   \n",
      "\n",
      "          director                                               cast  \\\n",
      "4250           NaN                                                NaN   \n",
      "7790   Frank Capra                                                NaN   \n",
      "8205     John Ford                          Henry Fonda, Jane Darwell   \n",
      "8660     John Ford                                                NaN   \n",
      "8763   John Huston                                                NaN   \n",
      "...            ...                                                ...   \n",
      "857            NaN  Quim GutiÃ©rrez, Clara Lago, AdriÃ¡n Pino, Cat...   \n",
      "855            NaN  Paul-MikÃ©l Williams, Jenna Ortega, Sean Giamb...   \n",
      "853    Zack Snyder  Dave Bautista, Ella Purnell, Omari Hardwick, G...   \n",
      "965            NaN  LaKeith Stanfield, Takehiro Hira, Maya Tanida,...   \n",
      "8807  Yeon Sang-ho         Shin Hyun-been, Jeon Yeo-bin, Goo Kyo-hwan   \n",
      "\n",
      "             origin  release_year rating   duration  \\\n",
      "4250            NaN          1925  TV-14   1 Season   \n",
      "7790  United States          1942  TV-14     52 min   \n",
      "8205  United States          1942  TV-14     18 min   \n",
      "8660  United States          1943  TV-PG     61 min   \n",
      "8763  United States          1943  TV-PG     45 min   \n",
      "...             ...           ...    ...        ...   \n",
      "857           Spain          2021  TV-MA  2 Seasons   \n",
      "855   United States          2021  TV-Y7  3 Seasons   \n",
      "853   United States          2021      R    148 min   \n",
      "965             NaN          2021  TV-MA   1 Season   \n",
      "8807    South Korea          2024  TV-MA   1 Season   \n",
      "\n",
      "                                              listed_in  \\\n",
      "4250                                           TV Shows   \n",
      "7790                      Classic Movies, Documentaries   \n",
      "8205                      Classic Movies, Documentaries   \n",
      "8660                      Classic Movies, Documentaries   \n",
      "8763                                      Documentaries   \n",
      "...                                                 ...   \n",
      "857   International TV Shows, Spanish-Language TV Sh...   \n",
      "855   Kids' TV, TV Action & Adventure, TV Sci-Fi & F...   \n",
      "853                   Action & Adventure, Horror Movies   \n",
      "965                Anime Series, International TV Shows   \n",
      "8807                             Sci-fi, Horror, Action   \n",
      "\n",
      "                                            description  \n",
      "4250  This collection restores films from women who ...  \n",
      "7790  Frank Capra's documentary chronicles the rise ...  \n",
      "8205  Director John Ford captures combat footage of ...  \n",
      "8660  This World War II-era training film dramatizes...  \n",
      "8763  Filmmaker John Huston narrates this Oscar-nomi...  \n",
      "...                                                 ...  \n",
      "857   Self-centered Javier's life gets a bit messy w...  \n",
      "855   Six teens invited to attend a state-of-the-art...  \n",
      "853   After a zombie outbreak in Las Vegas, a group ...  \n",
      "965   A peaceful boatman once known as the Black Sam...  \n",
      "8807  A new breed of parasitic aliens arrive on Eart...  \n",
      "\n",
      "[8809 rows x 11 columns]\n"
     ]
    }
   ],
   "source": [
    "#Sorting and Ordering\n",
    "print(\"DataFrame sorted by release_year in ascending order:\")\n",
    "print(df.sort_values(by='release_year', ascending=True))\n"
   ]
  },
  {
   "cell_type": "code",
   "execution_count": 223,
   "id": "3511ee5f-912f-4e36-8ef3-d38c3107c7dd",
   "metadata": {},
   "outputs": [
    {
     "name": "stdout",
     "output_type": "stream",
     "text": [
      "DataFrame sorted by Origin alphabetically:\n",
      "     show_id     type                             title  \\\n",
      "365     s366    Movie                   Eyes of a Thief   \n",
      "193     s194  TV Show                              D.P.   \n",
      "3681   s3682    Movie     River, el mÃ¡s grande siempre   \n",
      "2565   s2566  TV Show                      Almost Happy   \n",
      "3576   s3577  TV Show  Apache: The Life of Carlos Tevez   \n",
      "...      ...      ...                               ...   \n",
      "8718   s8719    Movie            Westside vs. the World   \n",
      "8759   s8760    Movie            World's Weirdest Homes   \n",
      "8783   s8784  TV Show                              Yoko   \n",
      "8785   s8786  TV Show                               YOM   \n",
      "8803   s8804  TV Show                       Zombie Dumb   \n",
      "\n",
      "                                              director  \\\n",
      "365                                       Najwa Najjar   \n",
      "193                                                NaN   \n",
      "3681  Marcelo Altmark, Mariano Mucci, Luis A. Scalella   \n",
      "2565                                HernÃ¡n Guerschuny   \n",
      "3576                                               NaN   \n",
      "...                                                ...   \n",
      "8718                                     Michael Fahey   \n",
      "8759                                  Storm Theunissen   \n",
      "8783                                               NaN   \n",
      "8785                                               NaN   \n",
      "8803                                               NaN   \n",
      "\n",
      "                                                   cast             origin  \\\n",
      "365   Khaled Abol El Naga, Souad Massi, Suhail Hadda...  , France, Algeria   \n",
      "193   Jung Hae-in, Koo Kyo-hwan, Kim Sung-kyun, Son ...      , South Korea   \n",
      "3681                                                NaN          Argentina   \n",
      "2565  SebastiÃ¡n Wainraich, Natalie PÃ©rez, Santiago...          Argentina   \n",
      "3576  Balthazar Murillo, Vanesa GonzÃ¡lez, Alberto A...          Argentina   \n",
      "...                                                 ...                ...   \n",
      "8718                         Ron Perlman, Louie Simmons                NaN   \n",
      "8759                                     Charlie Luxton                NaN   \n",
      "8783  Eileen Stevens, Alyson Leigh Rosenfeld, Sarah ...                NaN   \n",
      "8785  Sairaj, Devyani Dagaonkar, Ketan Singh, Mayur ...                NaN   \n",
      "8803                                                NaN                NaN   \n",
      "\n",
      "      release_year rating   duration  \\\n",
      "365           2014  TV-14    103 min   \n",
      "193           2021  TV-MA   1 Season   \n",
      "3681          2019   TV-G    105 min   \n",
      "2565          2020  TV-MA   1 Season   \n",
      "3576          2019  TV-MA   1 Season   \n",
      "...            ...    ...        ...   \n",
      "8718          2019  TV-MA     96 min   \n",
      "8759          2015  TV-PG     49 min   \n",
      "8783          2016   TV-Y   1 Season   \n",
      "8785          2016  TV-Y7   1 Season   \n",
      "8803          2018  TV-Y7  2 Seasons   \n",
      "\n",
      "                                              listed_in  \\\n",
      "365    Dramas, Independent Movies, International Movies   \n",
      "193                   International TV Shows, TV Dramas   \n",
      "3681  Documentaries, International Movies, Sports Mo...   \n",
      "2565  International TV Shows, Spanish-Language TV Sh...   \n",
      "3576  Crime TV Shows, International TV Shows, Spanis...   \n",
      "...                                                 ...   \n",
      "8718                       Documentaries, Sports Movies   \n",
      "8759                                             Movies   \n",
      "8783                                           Kids' TV   \n",
      "8785                                           Kids' TV   \n",
      "8803             Kids' TV, Korean TV Shows, TV Comedies   \n",
      "\n",
      "                                            description  \n",
      "365   After a decade in prison, a Palestinian man wi...  \n",
      "193   A young privateâs assignment to capture army...  \n",
      "3681  Experience the highlights of Argentine soccer ...  \n",
      "2565  SebastiÃ¡n is a radio show host of modest fame...  \n",
      "3576  This gritty dramatization of the life of Carlo...  \n",
      "...                                                 ...  \n",
      "8718  A look into the journey of influential strengt...  \n",
      "8759  From a bubble-shaped palace to an island built...  \n",
      "8783  Friends Mai, Oto and Vik's games at the park b...  \n",
      "8785  With the mind of a human being, and the body o...  \n",
      "8803  While living alone in a spooky town, a young g...  \n",
      "\n",
      "[8809 rows x 11 columns]\n"
     ]
    }
   ],
   "source": [
    "print(\"DataFrame sorted by Origin alphabetically:\")\n",
    "print(df.sort_values(by='origin'))"
   ]
  },
  {
   "cell_type": "code",
   "execution_count": 225,
   "id": "fa5fb68a-aa14-4ee7-bfad-df8ea68c9d25",
   "metadata": {},
   "outputs": [
    {
     "name": "stdout",
     "output_type": "stream",
     "text": [
      "DataFrame sorted by Duration in descending order:\n",
      "     show_id     type                                     title  \\\n",
      "1832   s1833    Movie                                      Zozo   \n",
      "7924   s7925    Movie                Salem: His Sister's Father   \n",
      "1663   s1664    Movie  Dolly Partonâs Christmas on the Square   \n",
      "5146   s5147    Movie                                The Worthy   \n",
      "4882   s4883    Movie                                   Thi Mai   \n",
      "...      ...      ...                                       ...   \n",
      "3524   s3525  TV Show                                   Top Boy   \n",
      "4403   s4404  TV Show                            Medal of Honor   \n",
      "5541   s5542    Movie                           Louis C.K. 2017   \n",
      "5794   s5795    Movie                     Louis C.K.: Hilarious   \n",
      "5813   s5814    Movie      Louis C.K.: Live at the Comedy Store   \n",
      "\n",
      "               director                                               cast  \\\n",
      "1832        Josef Fares  Imad Creidi, Antoinette Turk, Elias Gergi, Car...   \n",
      "7924      Mohamed Hamdy  Mohamed Ragab, Horeya Farghaly, Ayten Amer, Mo...   \n",
      "1663       Debbie Allen  Dolly Parton, Christine Baranski, Treat Willia...   \n",
      "5146     Ali F. Mostafa  Ali Suliman, Mahmoud Al Atrash, Samer al Masri...   \n",
      "4882  Patricia Ferreira  Carmen Machi, Adriana Ozores, Aitana SÃ¡nchez-...   \n",
      "...                 ...                                                ...   \n",
      "3524                NaN  Ashley Walters, Kane Robinson, Micheal Ward, S...   \n",
      "4403                NaN  Oliver Hudson, Ben Schwartz, Paul Wesley, Aldi...   \n",
      "5541         Louis C.K.                                         Louis C.K.   \n",
      "5794         Louis C.K.                                         Louis C.K.   \n",
      "5813         Louis C.K.                                         Louis C.K.   \n",
      "\n",
      "                                                 origin  release_year  rating  \\\n",
      "1832  Sweden, Czech Republic, United Kingdom, Denmar...          2005   TV-MA   \n",
      "7924                                              Egypt          2014   TV-14   \n",
      "1663                                      United States          2020   TV-PG   \n",
      "5146                      United Arab Emirates, Romania          2016   TV-MA   \n",
      "4882                                              Spain          2017   TV-MA   \n",
      "...                                                 ...           ...     ...   \n",
      "3524                                                NaN          2019   TV-MA   \n",
      "4403                                      United States          2018   TV-MA   \n",
      "5541                                      United States          2017  74 min   \n",
      "5794                                      United States          2010  84 min   \n",
      "5813                                      United States          2015  66 min   \n",
      "\n",
      "      duration                                          listed_in  \\\n",
      "1832    99 min                       Dramas, International Movies   \n",
      "7924    99 min                       Dramas, International Movies   \n",
      "1663    99 min         Children & Family Movies, Music & Musicals   \n",
      "5146    99 min  International Movies, Sci-Fi & Fantasy, Thrillers   \n",
      "4882    99 min             Comedies, Dramas, International Movies   \n",
      "...        ...                                                ...   \n",
      "3524  1 Season  British TV Shows, Crime TV Shows, Internationa...   \n",
      "4403  1 Season                              Docuseries, TV Dramas   \n",
      "5541       NaN                                             Movies   \n",
      "5794       NaN                                             Movies   \n",
      "5813       NaN                                             Movies   \n",
      "\n",
      "                                            description  \n",
      "1832  When Lebanon's Civil War deprives Zozo of his ...  \n",
      "7924  A street vendor's simple life is turned upside...  \n",
      "1663  Seasonal cheer comes to a screeching halt when...  \n",
      "5146  In the near future, with civilization a thing ...  \n",
      "4882  Along with her two friends, a determined woman...  \n",
      "...                                                 ...  \n",
      "3524  Two seasoned drug dealers return to the gritty...  \n",
      "4403  Honoring service members whose courage merited...  \n",
      "5541  Louis C.K. muses on religion, eternal love, gi...  \n",
      "5794  Emmy-winning comedy writer Louis C.K. brings h...  \n",
      "5813  The comic puts his trademark hilarious/thought...  \n",
      "\n",
      "[8809 rows x 11 columns]\n"
     ]
    }
   ],
   "source": [
    "print(\"DataFrame sorted by Duration in descending order:\")\n",
    "print(df.sort_values(by='duration', ascending=False))\n"
   ]
  },
  {
   "cell_type": "code",
   "execution_count": 227,
   "id": "0d5b0169-a70a-4d45-9c7f-4af7e555eb50",
   "metadata": {},
   "outputs": [
    {
     "name": "stdout",
     "output_type": "stream",
     "text": [
      "DataFrame sorted by Origin and then by Release year:\n",
      "     show_id     type                                              title  \\\n",
      "365     s366    Movie                                    Eyes of a Thief   \n",
      "193     s194  TV Show                                               D.P.   \n",
      "303     s304    Movie                               Esperando la carroza   \n",
      "6705   s6706    Movie                               Esperando La Carroza   \n",
      "7745   s7746    Movie                                 Pizza, birra, faso   \n",
      "...      ...      ...                                                ...   \n",
      "1250   s1251    Movie                                          Connected   \n",
      "1262   s1263    Movie                   Ginny & Georgia - The Afterparty   \n",
      "1299   s1300  TV Show                           Thus Spoke Kishibe Rohan   \n",
      "1418   s1419    Movie  Chris Rock Total Blackout: The Tamborine Exten...   \n",
      "1436   s1437    Movie  Ratones Paranoicos: The Band that Rocked Argen...   \n",
      "\n",
      "                                    director  \\\n",
      "365                             Najwa Najjar   \n",
      "193                                      NaN   \n",
      "303                          Alejandro Doria   \n",
      "6705                         Alejandro Doria   \n",
      "7745  Israel AdriÃ¡n Caetano, Bruno Stagnaro   \n",
      "...                                      ...   \n",
      "1250                           Milton Kremer   \n",
      "1262                                     NaN   \n",
      "1299                                     NaN   \n",
      "1418                              Chris Rock   \n",
      "1436        Alejandro Ruax, Ramiro MartÃ­nez   \n",
      "\n",
      "                                                   cast             origin  \\\n",
      "365   Khaled Abol El Naga, Souad Massi, Suhail Hadda...  , France, Algeria   \n",
      "193   Jung Hae-in, Koo Kyo-hwan, Kim Sung-kyun, Son ...      , South Korea   \n",
      "303   Luis Brandoni, China Zorrilla, Antonio Gasalla...          Argentina   \n",
      "6705  Luis Brandoni, China Zorrilla, Antonio Gasalla...          Argentina   \n",
      "7745  HÃ©ctor Anglada, Jorge SesÃ¡n, Pamela JordÃ¡n,...          Argentina   \n",
      "...                                                 ...                ...   \n",
      "1250                 HernÃ¡n CattÃ¡neo, Richard Coleman                NaN   \n",
      "1262  David Spade, London Hughes, Fortune Feimster, ...                NaN   \n",
      "1299  Takahiro Sakurai, Hiroki Takahashi, Koki Uchiy...                NaN   \n",
      "1418                                         Chris Rock                NaN   \n",
      "1436  Juan SebastiÃ¡n GutiÃ©rrez, Pablo Cano, Pablo ...                NaN   \n",
      "\n",
      "      release_year rating  duration  \\\n",
      "365           2014  TV-14   103 min   \n",
      "193           2021  TV-MA  1 Season   \n",
      "303           1985  TV-MA    95 min   \n",
      "6705          1985     NR    95 min   \n",
      "7745          1998  TV-MA    81 min   \n",
      "...            ...    ...       ...   \n",
      "1250          2021   TV-G    42 min   \n",
      "1262          2021  TV-MA    35 min   \n",
      "1299          2021  TV-MA  1 Season   \n",
      "1418          2021  TV-MA    98 min   \n",
      "1436          2021  TV-MA    76 min   \n",
      "\n",
      "                                              listed_in  \\\n",
      "365    Dramas, Independent Movies, International Movies   \n",
      "193                   International TV Shows, TV Dramas   \n",
      "303         Comedies, Cult Movies, International Movies   \n",
      "6705        Comedies, Cult Movies, International Movies   \n",
      "7745                       Dramas, International Movies   \n",
      "...                                                 ...   \n",
      "1250  Documentaries, International Movies, Music & M...   \n",
      "1262                                   Comedies, Dramas   \n",
      "1299               Anime Series, International TV Shows   \n",
      "1418                                    Stand-Up Comedy   \n",
      "1436  Documentaries, International Movies, Music & M...   \n",
      "\n",
      "                                            description  \n",
      "365   After a decade in prison, a Palestinian man wi...  \n",
      "193   A young privateâs assignment to capture army...  \n",
      "303   Cora has three sons and a daughter and sheÂ´s ...  \n",
      "6705  Cora has three sons and a daughter and sheÂ´s ...  \n",
      "7745  A group of hardscrabble young thieves in Argen...  \n",
      "...                                                 ...  \n",
      "1250  Argentine DJ HernÃ¡n CattÃ¡neo, known for his ...  \n",
      "1262  Cast members of the hit Netflix show join the ...  \n",
      "1299  A popular manga creator becomes enmeshed in pa...  \n",
      "1418  In this extended cut of his 2018 special, Chri...  \n",
      "1436  The irrepressible Ratones Paranoicos, Argentin...  \n",
      "\n",
      "[8809 rows x 11 columns]\n"
     ]
    }
   ],
   "source": [
    "print(\"DataFrame sorted by Origin and then by Release year:\")\n",
    "print(df.sort_values(by=['origin', 'release_year']))\n"
   ]
  },
  {
   "cell_type": "code",
   "execution_count": 229,
   "id": "1f2916c7-80a5-40f4-8297-9547cfe73c52",
   "metadata": {},
   "outputs": [
    {
     "name": "stdout",
     "output_type": "stream",
     "text": [
      "Top 3 rows sorted by Release year:\n",
      "     show_id     type                              title     director  \\\n",
      "4250   s4251  TV Show  Pioneers: First Women Filmmakers*          NaN   \n",
      "7790   s7791    Movie                     Prelude to War  Frank Capra   \n",
      "8205   s8206    Movie               The Battle of Midway    John Ford   \n",
      "\n",
      "                           cast         origin  release_year rating  duration  \\\n",
      "4250                        NaN            NaN          1925  TV-14  1 Season   \n",
      "7790                        NaN  United States          1942  TV-14    52 min   \n",
      "8205  Henry Fonda, Jane Darwell  United States          1942  TV-14    18 min   \n",
      "\n",
      "                          listed_in  \\\n",
      "4250                       TV Shows   \n",
      "7790  Classic Movies, Documentaries   \n",
      "8205  Classic Movies, Documentaries   \n",
      "\n",
      "                                            description  \n",
      "4250  This collection restores films from women who ...  \n",
      "7790  Frank Capra's documentary chronicles the rise ...  \n",
      "8205  Director John Ford captures combat footage of ...  \n"
     ]
    }
   ],
   "source": [
    "print(\"Top 3 rows sorted by Release year:\")\n",
    "print(df.sort_values(by='release_year').head(3))\n"
   ]
  },
  {
   "cell_type": "code",
   "execution_count": 231,
   "id": "179e5c5b-7d78-414c-a820-4dd187616e11",
   "metadata": {},
   "outputs": [
    {
     "name": "stdout",
     "output_type": "stream",
     "text": [
      "Renamed 'origin' to 'country':\n",
      "Index(['show_id', 'type', 'title', 'director', 'cast', 'country',\n",
      "       'release_year', 'rating', 'duration', 'listed_in', 'description'],\n",
      "      dtype='object')\n"
     ]
    }
   ],
   "source": [
    "#Renaming Columns\n",
    "df.rename(columns={'origin': 'country'}, inplace=True)\n",
    "\n",
    "print(\"Renamed 'origin' to 'country':\")\n",
    "print(df.columns)\n"
   ]
  },
  {
   "cell_type": "code",
   "execution_count": 233,
   "id": "52002139-e859-40ea-8e5c-8484bcee19fb",
   "metadata": {},
   "outputs": [
    {
     "name": "stdout",
     "output_type": "stream",
     "text": [
      "Renamed 'director' to 'director_name':\n",
      "Index(['show_id', 'type', 'title', 'director_name', 'cast', 'country',\n",
      "       'release_year', 'rating', 'duration', 'listed_in', 'description'],\n",
      "      dtype='object')\n"
     ]
    }
   ],
   "source": [
    "df.rename(columns={'director': 'director_name'}, inplace=True)\n",
    "\n",
    "print(\"Renamed 'director' to 'director_name':\")\n",
    "print(df.columns)\n"
   ]
  },
  {
   "cell_type": "code",
   "execution_count": 235,
   "id": "c6196da4-6c88-4ada-8cb7-d61d9118c1a8",
   "metadata": {},
   "outputs": [
    {
     "name": "stdout",
     "output_type": "stream",
     "text": [
      "Renamed multiple columns:\n",
      "Index(['show_id', 'type', 'title', 'director_name', 'cast', 'origin',\n",
      "       'release_year', 'rating', 'duration', 'listed_in', 'description'],\n",
      "      dtype='object')\n"
     ]
    }
   ],
   "source": [
    "df.rename(columns={'director_name': 'director_name', 'country': 'origin'}, inplace=True)\n",
    "\n",
    "print(\"Renamed multiple columns:\")\n",
    "print(df.columns)\n"
   ]
  },
  {
   "cell_type": "code",
   "execution_count": 237,
   "id": "9b0caacc-293c-41d5-a0fc-a25cff859743",
   "metadata": {},
   "outputs": [
    {
     "name": "stdout",
     "output_type": "stream",
     "text": [
      "Simplified column names:\n",
      "Index(['show_id', 'type', 'title', 'director', 'cast', 'origin',\n",
      "       'release_year', 'rating', 'duration', 'listed_in', 'description'],\n",
      "      dtype='object')\n"
     ]
    }
   ],
   "source": [
    "df.rename(columns={'director_name': 'director'}, inplace=True)\n",
    "\n",
    "print(\"Simplified column names:\")\n",
    "print(df.columns)\n"
   ]
  },
  {
   "cell_type": "code",
   "execution_count": 239,
   "id": "65a8fd02-0a7c-47b1-bd0d-f02eb1cc0f66",
   "metadata": {},
   "outputs": [
    {
     "name": "stdout",
     "output_type": "stream",
     "text": [
      "Average release year:\n",
      "2014.1812918605972\n"
     ]
    }
   ],
   "source": [
    "#Data Aggregation\n",
    "print(\"Average release year:\")\n",
    "print(df['release_year'].mean())\n"
   ]
  },
  {
   "cell_type": "code",
   "execution_count": 241,
   "id": "f47ca08a-2958-43fc-8740-814ccae7acd0",
   "metadata": {},
   "outputs": [
    {
     "name": "stdout",
     "output_type": "stream",
     "text": [
      "Total sum of release year:\n",
      "17742923\n"
     ]
    }
   ],
   "source": [
    "print(\"Total sum of release year:\")\n",
    "print(df['release_year'].sum())\n"
   ]
  },
  {
   "cell_type": "code",
   "execution_count": 243,
   "id": "bf357abd-a176-4f8f-9329-19f49b387d4e",
   "metadata": {},
   "outputs": [
    {
     "name": "stdout",
     "output_type": "stream",
     "text": [
      "Count of each value in the Origin column:\n",
      "origin\n",
      "United States                             2819\n",
      "India                                      972\n",
      "United Kingdom                             419\n",
      "Japan                                      245\n",
      "South Korea                                200\n",
      "                                          ... \n",
      "Romania, Bulgaria, Hungary                   1\n",
      "Uruguay, Guatemala                           1\n",
      "France, Senegal, Belgium                     1\n",
      "Mexico, United States, Spain, Colombia       1\n",
      "United Arab Emirates, Jordan                 1\n",
      "Name: count, Length: 748, dtype: int64\n"
     ]
    }
   ],
   "source": [
    "print(\"Count of each value in the Origin column:\")\n",
    "print(df['origin'].value_counts())\n"
   ]
  },
  {
   "cell_type": "code",
   "execution_count": 245,
   "id": "63f90a98-e8c5-4974-b527-42a1c2aca3a5",
   "metadata": {},
   "outputs": [
    {
     "name": "stdout",
     "output_type": "stream",
     "text": [
      "Sum of Release year for each origin:\n",
      "origin\n",
      ", France, Algeria                                        2014\n",
      ", South Korea                                            2021\n",
      "Argentina                                              112896\n",
      "Argentina, Brazil, France, Poland, Germany, Denmark      2017\n",
      "Argentina, Chile                                         4023\n",
      "                                                        ...  \n",
      "Venezuela                                                2017\n",
      "Venezuela, Colombia                                      2007\n",
      "Vietnam                                                 14124\n",
      "West Germany                                             1977\n",
      "Zimbabwe                                                 2017\n",
      "Name: release_year, Length: 748, dtype: int64\n"
     ]
    }
   ],
   "source": [
    "print(\"Sum of Release year for each origin:\")\n",
    "print(df.groupby('origin')['release_year'].sum())\n"
   ]
  },
  {
   "cell_type": "code",
   "execution_count": 247,
   "id": "e53cb886-a3f0-4f17-8e5a-1e5d8a264cb8",
   "metadata": {},
   "outputs": [
    {
     "name": "stdout",
     "output_type": "stream",
     "text": [
      "Latest Release year in the dataset:\n",
      "2024\n"
     ]
    }
   ],
   "source": [
    "print(\"Latest Release year in the dataset:\")\n",
    "print(df['release_year'].max())\n"
   ]
  },
  {
   "cell_type": "code",
   "execution_count": 249,
   "id": "b37967c8-7e7d-461f-8faf-b4dabbeebf46",
   "metadata": {},
   "outputs": [
    {
     "name": "stdout",
     "output_type": "stream",
     "text": [
      "Minimum Show ID in the dataset:\n",
      "s1\n"
     ]
    }
   ],
   "source": [
    "print(\"Minimum Show ID in the dataset:\")\n",
    "print(df['show_id'].min())\n"
   ]
  },
  {
   "cell_type": "code",
   "execution_count": 261,
   "id": "70a4cc1e-7a30-4201-a4f8-de6f592036af",
   "metadata": {},
   "outputs": [
    {
     "data": {
      "image/png": "[encoded data removed]",
      "text/plain": [
       "<Figure size 1200x600 with 1 Axes>"
      ]
     },
     "metadata": {},
     "output_type": "display_data"
    }
   ],
   "source": [
    "#Simple Data Visualization\n",
    "# Top 10 countries with the most shows\n",
    "plt.figure(figsize=(12, 6))\n",
    "top_countries = df['origin'].value_counts().head(10)\n",
    "sns.barplot(x=top_countries.index, y=top_countries.values)\n",
    "plt.title('Top 10 Countries with Most Netflix Shows')\n",
    "plt.xticks(rotation=45)\n",
    "plt.xlabel('Origin')\n",
    "plt.ylabel('Number of Shows')\n",
    "plt.show()\n"
   ]
  },
  {
   "cell_type": "code",
   "execution_count": 263,
   "id": "4f90fa37-c667-412a-9cc0-dcb70d05b218",
   "metadata": {},
   "outputs": [
    {
     "data": {
      "image/png": "[encoded data removed]",
      "text/plain": [
       "<Figure size 1200x600 with 1 Axes>"
      ]
     },
     "metadata": {},
     "output_type": "display_data"
    }
   ],
   "source": [
    "plt.figure(figsize=(12, 6))\n",
    "df['release_year'].value_counts().sort_index().plot(kind='line', marker='o', color='coral')\n",
    "plt.title('Number of Netflix Shows Released Each Year')\n",
    "plt.xlabel('Release Year')\n",
    "plt.ylabel('Number of Shows')\n",
    "plt.grid(True)\n",
    "plt.show()\n"
   ]
  },
  {
   "cell_type": "code",
   "execution_count": 265,
   "id": "4a7f7aa5-1bc9-48d5-81b0-8a71334012df",
   "metadata": {},
   "outputs": [
    {
     "data": {
      "image/png": "[encoded data removed]",
      "text/plain": [
       "<Figure size 1000x600 with 1 Axes>"
      ]
     },
     "metadata": {},
     "output_type": "display_data"
    }
   ],
   "source": [
    "plt.figure(figsize=(10, 6))\n",
    "plt.hist(df['duration'].dropna(), bins=20, color='skyblue', edgecolor='black')\n",
    "plt.title('Distribution of Show Durations')\n",
    "plt.xlabel('Duration (minutes)')\n",
    "plt.ylabel('Frequency')\n",
    "plt.show()\n"
   ]
  },
  {
   "cell_type": "code",
   "execution_count": 267,
   "id": "ab517021-cbf1-4988-9fe1-0dc533c6481c",
   "metadata": {},
   "outputs": [
    {
     "data": {
      "image/png": "[encoded data removed]",
      "text/plain": [
       "<Figure size 800x800 with 1 Axes>"
      ]
     },
     "metadata": {},
     "output_type": "display_data"
    }
   ],
   "source": [
    "plt.figure(figsize=(8, 8))\n",
    "df['type'].value_counts().plot.pie(autopct='%1.1f%%', startangle=140, colors=sns.color_palette('pastel'))\n",
    "plt.title('Distribution of Content Type')\n",
    "plt.ylabel('')\n",
    "plt.show()\n"
   ]
  },
  {
   "cell_type": "code",
   "execution_count": 271,
   "id": "ccf47090-1df6-4f3a-ac91-c50e39358fe4",
   "metadata": {},
   "outputs": [
    {
     "data": {
      "image/png": "[encoded data removed]",
      "text/plain": [
       "<Figure size 1000x600 with 1 Axes>"
      ]
     },
     "metadata": {},
     "output_type": "display_data"
    }
   ],
   "source": [
    "plt.figure(figsize=(10, 6))\n",
    "sns.scatterplot(x='release_year', y='type', data=df, color='purple')\n",
    "plt.title('Type vs. Release Year')\n",
    "plt.xlabel('Release Year')\n",
    "plt.ylabel('type')\n",
    "plt.show()\n"
   ]
  },
  {
   "cell_type": "code",
   "execution_count": 279,
   "id": "788d1678-d47a-4cd8-8617-5785704e7f06",
   "metadata": {},
   "outputs": [
    {
     "data": {
      "image/png": "[encoded data removed]",
      "text/plain": [
       "<Figure size 800x600 with 1 Axes>"
      ]
     },
     "metadata": {},
     "output_type": "display_data"
    }
   ],
   "source": [
    "plt.figure(figsize=(8, 6))\n",
    "sns.boxplot(y='type', data=df)\n",
    "plt.title('Box Plot of Show type')\n",
    "plt.show()\n"
   ]
  },
  {
   "cell_type": "code",
   "execution_count": 281,
   "id": "d58bb957-2f5c-4647-b924-e4ed5c1d7250",
   "metadata": {},
   "outputs": [
    {
     "name": "stdout",
     "output_type": "stream",
     "text": [
      "Origin column converted to lowercase:\n",
      "0    united states\n",
      "1     south africa\n",
      "2              NaN\n",
      "3              NaN\n",
      "4            india\n",
      "Name: origin, dtype: object\n"
     ]
    }
   ],
   "source": [
    "#Basic String Manipulation\n",
    "\n",
    "# Convert 'origin' column to lowercase\n",
    "df['origin'] = df['origin'].str.lower()\n",
    "\n",
    "print(\"Origin column converted to lowercase:\")\n",
    "print(df['origin'].head())\n"
   ]
  },
  {
   "cell_type": "code",
   "execution_count": 283,
   "id": "c306339d-1d33-445e-a9b8-108e69ec5426",
   "metadata": {},
   "outputs": [
    {
     "name": "stdout",
     "output_type": "stream",
     "text": [
      "First 3 characters of each city:\n",
      "          origin origin_first_3_chars\n",
      "0  united states                  uni\n",
      "1   south africa                  sou\n",
      "2            NaN                  NaN\n",
      "3            NaN                  NaN\n",
      "4          india                  ind\n"
     ]
    }
   ],
   "source": [
    "# Extract first 3 characters from 'city' column\n",
    "df['origin_first_3_chars'] = df['origin'].str[:3]\n",
    "\n",
    "print(\"First 3 characters of each city:\")\n",
    "print(df[['origin', 'origin_first_3_chars']].head())\n"
   ]
  },
  {
   "cell_type": "code",
   "execution_count": 303,
   "id": "37122380-cf63-4831-9c3a-c0e4d877f2f2",
   "metadata": {},
   "outputs": [
    {
     "name": "stdout",
     "output_type": "stream",
     "text": [
      "Origin names with underscores instead of spaces:\n",
      "0    united_states\n",
      "1     south_africa\n",
      "2              NaN\n",
      "3              NaN\n",
      "4            india\n",
      "Name: origin, dtype: object\n"
     ]
    }
   ],
   "source": [
    "# Replace spaces with underscores in 'origin'\n",
    "df['origin'] = df['origin'].str.replace(' ', '_', regex=True)\n",
    "\n",
    "print(\"Origin names with underscores instead of spaces:\")\n",
    "print(df['origin'].head())"
   ]
  },
  {
   "cell_type": "code",
   "execution_count": 305,
   "id": "603d317c-f783-41df-88ed-21c3c43020f2",
   "metadata": {},
   "outputs": [
    {
     "name": "stdout",
     "output_type": "stream",
     "text": [
      "First row of the dataset:\n",
      "show_id                                                                s1\n",
      "type                                                                Movie\n",
      "title                                                Dick Johnson Is Dead\n",
      "director                                                  Kirsten Johnson\n",
      "cast                                                                  NaN\n",
      "origin                                                      united_states\n",
      "release_year                                                         2020\n",
      "rating                                                              PG-13\n",
      "duration                                                           90 min\n",
      "listed_in                                                   Documentaries\n",
      "description             As her father nears the end of his life, filmm...\n",
      "origin_first_3_chars                                                  uni\n",
      "Name: 0, dtype: object\n"
     ]
    }
   ],
   "source": [
    "#iloc - Integer-location based indexing\n",
    "print(\"First row of the dataset:\")\n",
    "print(df.iloc[0])"
   ]
  },
  {
   "cell_type": "code",
   "execution_count": 307,
   "id": "e391c1ad-213c-46a0-b1ea-cac4c688c3a1",
   "metadata": {},
   "outputs": [
    {
     "name": "stdout",
     "output_type": "stream",
     "text": [
      "Last 3 rows of the dataset:\n",
      "     show_id     type               title      director  \\\n",
      "8806   s8807    Movie              Zubaan   Mozez Singh   \n",
      "8807   s8808  TV Show  Parasyte: The Grey  Yeon Sang-ho   \n",
      "8808   s8809    Movie              Serena  Susanne Bier   \n",
      "\n",
      "                                                   cast         origin  \\\n",
      "8806  Vicky Kaushal, Sarah-Jane Dias, Raaghav Chanan...          india   \n",
      "8807         Shin Hyun-been, Jeon Yeo-bin, Goo Kyo-hwan    south_korea   \n",
      "8808  Bradley Cooper, Jennifer Lawrence, Toby Jones,...  united_states   \n",
      "\n",
      "      release_year rating  duration  \\\n",
      "8806          2015  TV-14   111 min   \n",
      "8807          2024  TV-MA  1 Season   \n",
      "8808          2014      A   110 min   \n",
      "\n",
      "                                           listed_in  \\\n",
      "8806  Dramas, International Movies, Music & Musicals   \n",
      "8807                          Sci-fi, Horror, Action   \n",
      "8808                        Drama, Romance, Thriller   \n",
      "\n",
      "                                            description origin_first_3_chars  \n",
      "8806  A scrappy but poor boy worms his way into a ty...                  ind  \n",
      "8807  A new breed of parasitic aliens arrive on Eart...                  sou  \n",
      "8808  In the 1920s, a newly married couple attempt t...                  uni  \n"
     ]
    }
   ],
   "source": [
    "print(\"Last 3 rows of the dataset:\")\n",
    "print(df.iloc[-3:])\n"
   ]
  },
  {
   "cell_type": "code",
   "execution_count": 309,
   "id": "352435de-7381-4910-b299-b7311eec067f",
   "metadata": {},
   "outputs": [
    {
     "name": "stdout",
     "output_type": "stream",
     "text": [
      "First 5 rows and first 3 columns:\n",
      "  show_id     type                  title\n",
      "0      s1    Movie   Dick Johnson Is Dead\n",
      "1      s2  TV Show          Blood & Water\n",
      "2      s3  TV Show              Ganglands\n",
      "3      s4  TV Show  Jailbirds New Orleans\n",
      "4      s5  TV Show           Kota Factory\n"
     ]
    }
   ],
   "source": [
    "print(\"First 5 rows and first 3 columns:\")\n",
    "print(df.iloc[:5, :3])\n"
   ]
  },
  {
   "cell_type": "code",
   "execution_count": 311,
   "id": "6fcb93e0-1948-4fef-9a7c-28d5178f1b7e",
   "metadata": {},
   "outputs": [
    {
     "name": "stdout",
     "output_type": "stream",
     "text": [
      "All rows with only the 2nd and 3rd columns:\n",
      "         type                  title\n",
      "0       Movie   Dick Johnson Is Dead\n",
      "1     TV Show          Blood & Water\n",
      "2     TV Show              Ganglands\n",
      "3     TV Show  Jailbirds New Orleans\n",
      "4     TV Show           Kota Factory\n",
      "...       ...                    ...\n",
      "8804    Movie             Zombieland\n",
      "8805    Movie                   Zoom\n",
      "8806    Movie                 Zubaan\n",
      "8807  TV Show     Parasyte: The Grey\n",
      "8808    Movie                 Serena\n",
      "\n",
      "[8809 rows x 2 columns]\n"
     ]
    }
   ],
   "source": [
    "print(\"All rows with only the 2nd and 3rd columns:\")\n",
    "print(df.iloc[:, 1:3])\n"
   ]
  },
  {
   "cell_type": "code",
   "execution_count": 313,
   "id": "28235c69-513b-4243-818d-4a3a9ef0b31b",
   "metadata": {},
   "outputs": [
    {
     "name": "stdout",
     "output_type": "stream",
     "text": [
      "Value at 4th row and 2nd column:\n",
      "TV Show\n"
     ]
    }
   ],
   "source": [
    "print(\"Value at 4th row and 2nd column:\")\n",
    "print(df.iloc[3, 1])\n"
   ]
  },
  {
   "cell_type": "code",
   "execution_count": 315,
   "id": "f6ce8759-b9fc-44ad-a472-88e50bc7c378",
   "metadata": {},
   "outputs": [
    {
     "name": "stdout",
     "output_type": "stream",
     "text": [
      "Rows 2 to 5 and columns 1 to 4:\n",
      "  show_id     type                  title         director\n",
      "1      s2  TV Show          Blood & Water                 \n",
      "2      s3  TV Show              Ganglands  Julien Leclercq\n",
      "3      s4  TV Show  Jailbirds New Orleans                 \n",
      "4      s5  TV Show           Kota Factory                 \n"
     ]
    }
   ],
   "source": [
    "print(\"Rows 2 to 5 and columns 1 to 4:\")\n",
    "print(df.iloc[1:5, 0:4])\n"
   ]
  },
  {
   "cell_type": "code",
   "execution_count": 321,
   "id": "be5a9a0b-aea9-4b59-86e0-fd57e073ec1e",
   "metadata": {},
   "outputs": [
    {
     "name": "stdout",
     "output_type": "stream",
     "text": [
      "Row where title is 'Inception':\n",
      "    show_id   type      title           director  \\\n",
      "340    s341  Movie  Inception  Christopher Nolan   \n",
      "\n",
      "                                                  cast  \\\n",
      "340  Leonardo DiCaprio, Joseph Gordon-Levitt, Ellio...   \n",
      "\n",
      "                            origin  release_year rating duration  \\\n",
      "340  united_states,_united_kingdom          2010  PG-13  148 min   \n",
      "\n",
      "                                           listed_in  \\\n",
      "340  Action & Adventure, Sci-Fi & Fantasy, Thrillers   \n",
      "\n",
      "                                           description origin_first_3_chars  \n",
      "340  A troubled thief who extracts secrets from peo...                  uni  \n"
     ]
    }
   ],
   "source": [
    "#loc - Label-based indexing\n",
    "\n",
    "print(\"Row where title is 'Inception':\")\n",
    "print(df.loc[df['title'] == 'Inception'])\n"
   ]
  },
  {
   "cell_type": "code",
   "execution_count": 323,
   "id": "62fe0cfe-aa50-4583-b0f0-cc1489859b5a",
   "metadata": {},
   "outputs": [
    {
     "name": "stdout",
     "output_type": "stream",
     "text": [
      "Rows where release_year is greater than 2015:\n",
      "     show_id     type                  title         director  \\\n",
      "0         s1    Movie   Dick Johnson Is Dead  Kirsten Johnson   \n",
      "1         s2  TV Show          Blood & Water                    \n",
      "2         s3  TV Show              Ganglands  Julien Leclercq   \n",
      "3         s4  TV Show  Jailbirds New Orleans                    \n",
      "4         s5  TV Show           Kota Factory                    \n",
      "...      ...      ...                    ...              ...   \n",
      "8794   s8795    Movie           Ø§Ø´ØªØ¨Ø§Ù     Mohamed Diab   \n",
      "8796   s8797  TV Show             Yunus Emre                    \n",
      "8797   s8798  TV Show              Zak Storm                    \n",
      "8803   s8804  TV Show            Zombie Dumb                    \n",
      "8807   s8808  TV Show     Parasyte: The Grey     Yeon Sang-ho   \n",
      "\n",
      "                                                   cast  \\\n",
      "0                                                   NaN   \n",
      "1     Ama Qamata, Khosi Ngema, Gail Mabalane, Thaban...   \n",
      "2     Sami Bouajila, Tracy Gotoas, Samuel Jouy, Nabi...   \n",
      "3                                                   NaN   \n",
      "4     Mayur More, Jitendra Kumar, Ranjan Raj, Alam K...   \n",
      "...                                                 ...   \n",
      "8794  Nelly Karim, Hany Adel, Tarek Abdel Aziz, Ahme...   \n",
      "8796  GÃ¶khan Atalay, Payidar TÃ¼fekÃ§ioglu, Baran A...   \n",
      "8797  Michael Johnston, Jessica Gee-George, Christin...   \n",
      "8803                                                NaN   \n",
      "8807         Shin Hyun-been, Jeon Yeo-bin, Goo Kyo-hwan   \n",
      "\n",
      "                                             origin  release_year rating  \\\n",
      "0                                     united_states          2020  PG-13   \n",
      "1                                      south_africa          2021  TV-MA   \n",
      "2                                               NaN          2021  TV-MA   \n",
      "3                                               NaN          2021  TV-MA   \n",
      "4                                             india          2021  TV-MA   \n",
      "...                                             ...           ...    ...   \n",
      "8794                                  egypt,_france          2016  TV-14   \n",
      "8796                                         turkey          2016  TV-PG   \n",
      "8797  united_states,_france,_south_korea,_indonesia          2016  TV-Y7   \n",
      "8803                                            NaN          2018  TV-Y7   \n",
      "8807                                    south_korea          2024  TV-MA   \n",
      "\n",
      "       duration                                          listed_in  \\\n",
      "0        90 min                                      Documentaries   \n",
      "1     2 Seasons    International TV Shows, TV Dramas, TV Mysteries   \n",
      "2      1 Season  Crime TV Shows, International TV Shows, TV Act...   \n",
      "3      1 Season                             Docuseries, Reality TV   \n",
      "4     2 Seasons  International TV Shows, Romantic TV Shows, TV ...   \n",
      "...         ...                                                ...   \n",
      "8794     98 min   Dramas, Independent Movies, International Movies   \n",
      "8796  2 Seasons                  International TV Shows, TV Dramas   \n",
      "8797  3 Seasons                                           Kids' TV   \n",
      "8803  2 Seasons             Kids' TV, Korean TV Shows, TV Comedies   \n",
      "8807   1 Season                             Sci-fi, Horror, Action   \n",
      "\n",
      "                                            description origin_first_3_chars  \n",
      "0     As her father nears the end of his life, filmm...                  uni  \n",
      "1     After crossing paths at a party, a Cape Town t...                  sou  \n",
      "2     To protect his family from a powerful drug lor...                  NaN  \n",
      "3     Feuds, flirtations and toilet talk go down amo...                  NaN  \n",
      "4     In a city of coaching centers known to train I...                  ind  \n",
      "...                                                 ...                  ...  \n",
      "8794  Amid the tumult following Egyptian President M...                  egy  \n",
      "8796  During the Mongol invasions, Yunus Emre leaves...                  tur  \n",
      "8797  Teen surfer Zak Storm is mysteriously transpor...                  uni  \n",
      "8803  While living alone in a spooky town, a young g...                  NaN  \n",
      "8807  A new breed of parasitic aliens arrive on Eart...                  sou  \n",
      "\n",
      "[5657 rows x 12 columns]\n"
     ]
    }
   ],
   "source": [
    "print(\"Rows where release_year is greater than 2015:\")\n",
    "print(df.loc[df['release_year'] > 2015])\n"
   ]
  },
  {
   "cell_type": "code",
   "execution_count": 327,
   "id": "6ae11304-34cb-45da-8f14-9c7d6a2657f4",
   "metadata": {},
   "outputs": [
    {
     "name": "stdout",
     "output_type": "stream",
     "text": [
      "Origins where release_year is between 2010 and 2020:\n",
      "0                      united_states\n",
      "16                               NaN\n",
      "17                            mexico\n",
      "21                            turkey\n",
      "27                     united_states\n",
      "                    ...             \n",
      "8800                        pakistan\n",
      "8801    united_arab_emirates,_jordan\n",
      "8803                             NaN\n",
      "8806                           india\n",
      "8808                   united_states\n",
      "Name: origin, Length: 6881, dtype: object\n"
     ]
    }
   ],
   "source": [
    "print(\"Origins where release_year is between 2010 and 2020:\")\n",
    "print(df.loc[(df['release_year'] >= 2010) & (df['release_year'] <= 2020), 'origin'])\n"
   ]
  },
  {
   "cell_type": "code",
   "execution_count": 329,
   "id": "c2faa1dc-4470-427e-9ad6-ec7106d58e30",
   "metadata": {},
   "outputs": [
    {
     "name": "stdout",
     "output_type": "stream",
     "text": [
      "All rows where origin is 'United States':\n",
      "Empty DataFrame\n",
      "Columns: [show_id, type, title, director, cast, origin, release_year, rating, duration, listed_in, description, origin_first_3_chars]\n",
      "Index: []\n"
     ]
    }
   ],
   "source": [
    "print(\"All rows where origin is 'United States':\")\n",
    "print(df.loc[df['origin'] == 'United States'])\n"
   ]
  },
  {
   "cell_type": "code",
   "execution_count": 331,
   "id": "fae5ebf0-513d-4762-b76c-6d1dd8fa768e",
   "metadata": {},
   "outputs": [
    {
     "name": "stdout",
     "output_type": "stream",
     "text": [
      "Title and Director for row 0:\n",
      "title       Dick Johnson Is Dead\n",
      "director         Kirsten Johnson\n",
      "Name: 0, dtype: object\n"
     ]
    }
   ],
   "source": [
    "print(\"Title and Director for row 0:\")\n",
    "print(df.loc[0, ['title', 'director']])\n"
   ]
  },
  {
   "cell_type": "code",
   "execution_count": 335,
   "id": "105884ee-c682-4785-bc55-a7dc07939d1b",
   "metadata": {},
   "outputs": [
    {
     "name": "stdout",
     "output_type": "stream",
     "text": [
      "Rows where release_year is greater than 2015 and origin is 'India':\n",
      "Empty DataFrame\n",
      "Columns: [show_id, type, title, director, cast, origin, release_year, rating, duration, listed_in, description, origin_first_3_chars]\n",
      "Index: []\n"
     ]
    }
   ],
   "source": [
    "print(\"Rows where release_year is greater than 2015 and origin is 'India':\")\n",
    "print(df.loc[(df['release_year'] > 2015) & (df['origin'] == 'India')])\n"
   ]
  },
  {
   "cell_type": "code",
   "execution_count": 343,
   "id": "49bcfc0f-c12d-4f65-a38a-cb310523f71f",
   "metadata": {},
   "outputs": [
    {
     "name": "stdout",
     "output_type": "stream",
     "text": [
      "Updated 'origin' column:\n",
      "origin\n",
      "united_states                             2819\n",
      "india                                      972\n",
      "united_kingdom                             419\n",
      "japan                                      245\n",
      "south_korea                                200\n",
      "                                          ... \n",
      "romania,_bulgaria,_hungary                   1\n",
      "uruguay,_guatemala                           1\n",
      "france,_senegal,_belgium                     1\n",
      "mexico,_united_states,_spain,_colombia       1\n",
      "united_arab_emirates,_jordan                 1\n",
      "Name: count, Length: 748, dtype: int64\n"
     ]
    }
   ],
   "source": [
    "#Replacing values in a DataFrame\n",
    "\n",
    "# Replace \"United States\" with \"USA\"\n",
    "df['origin'] = df['origin'].replace('United States', 'USA')\n",
    "\n",
    "print(\"Updated 'origin' column:\")\n",
    "print(df['origin'].value_counts())\n"
   ]
  },
  {
   "cell_type": "code",
   "execution_count": 345,
   "id": "cdb33e27-a5f5-4bc8-93d1-93fe407ba48a",
   "metadata": {},
   "outputs": [
    {
     "name": "stdout",
     "output_type": "stream",
     "text": [
      "Updated 'duration' column:\n",
      "0       90 min\n",
      "1    2 Seasons\n",
      "2     1 Season\n",
      "3     1 Season\n",
      "4    2 Seasons\n",
      "Name: duration, dtype: object\n"
     ]
    }
   ],
   "source": [
    "# Replace 0 with NaN in 'duration'\n",
    "df['duration'] = df['duration'].replace(0, np.nan)\n",
    "\n",
    "print(\"Updated 'duration' column:\")\n",
    "print(df['duration'].head())\n"
   ]
  },
  {
   "cell_type": "code",
   "execution_count": 347,
   "id": "ee8cd265-617c-45b3-983e-0c138398b781",
   "metadata": {},
   "outputs": [
    {
     "name": "stdout",
     "output_type": "stream",
     "text": [
      "Updated DataFrame with 100 replaced by 50:\n",
      "  show_id     type                  title         director  \\\n",
      "0      s1    Movie   Dick Johnson Is Dead  Kirsten Johnson   \n",
      "1      s2  TV Show          Blood & Water                    \n",
      "2      s3  TV Show              Ganglands  Julien Leclercq   \n",
      "3      s4  TV Show  Jailbirds New Orleans                    \n",
      "4      s5  TV Show           Kota Factory                    \n",
      "\n",
      "                                                cast         origin  \\\n",
      "0                                                NaN  united_states   \n",
      "1  Ama Qamata, Khosi Ngema, Gail Mabalane, Thaban...   south_africa   \n",
      "2  Sami Bouajila, Tracy Gotoas, Samuel Jouy, Nabi...            NaN   \n",
      "3                                                NaN            NaN   \n",
      "4  Mayur More, Jitendra Kumar, Ranjan Raj, Alam K...          india   \n",
      "\n",
      "   release_year rating   duration  \\\n",
      "0          2020  PG-13     90 min   \n",
      "1          2021  TV-MA  2 Seasons   \n",
      "2          2021  TV-MA   1 Season   \n",
      "3          2021  TV-MA   1 Season   \n",
      "4          2021  TV-MA  2 Seasons   \n",
      "\n",
      "                                           listed_in  \\\n",
      "0                                      Documentaries   \n",
      "1    International TV Shows, TV Dramas, TV Mysteries   \n",
      "2  Crime TV Shows, International TV Shows, TV Act...   \n",
      "3                             Docuseries, Reality TV   \n",
      "4  International TV Shows, Romantic TV Shows, TV ...   \n",
      "\n",
      "                                         description origin_first_3_chars  \n",
      "0  As her father nears the end of his life, filmm...                  uni  \n",
      "1  After crossing paths at a party, a Cape Town t...                  sou  \n",
      "2  To protect his family from a powerful drug lor...                  NaN  \n",
      "3  Feuds, flirtations and toilet talk go down amo...                  NaN  \n",
      "4  In a city of coaching centers known to train I...                  ind  \n"
     ]
    }
   ],
   "source": [
    "# Replace all occurrences of 100 with 50 in the entire DataFrame\n",
    "df.replace(100, 50, inplace=True)\n",
    "\n",
    "print(\"Updated DataFrame with 100 replaced by 50:\")\n",
    "print(df.head())\n"
   ]
  },
  {
   "cell_type": "code",
   "execution_count": 353,
   "id": "dda3eeab-7712-4213-ac71-7bf72c1e879e",
   "metadata": {},
   "outputs": [
    {
     "name": "stdout",
     "output_type": "stream",
     "text": [
      "Updated 'release_year' column:\n",
      "0    2020\n",
      "1    2021\n",
      "2    2021\n",
      "3    2021\n",
      "4    2021\n",
      "Name: release_year, dtype: int64\n"
     ]
    }
   ],
   "source": [
    "# Convert 'release_year' to numeric (in case it’s stored as strings)\n",
    "df['release_year'] = pd.to_numeric(df['release_year'], errors='coerce')\n",
    "\n",
    "# Replace 'NA' with the mean of the column\n",
    "mean_year = int(df['release_year'].mean())\n",
    "df['release_year'] = df['release_year'].replace('NA', mean_year)\n",
    "\n",
    "print(\"Updated 'release_year' column:\")\n",
    "print(df['release_year'].head())\n",
    "\n"
   ]
  },
  {
   "cell_type": "code",
   "execution_count": 355,
   "id": "d1a8d5a9-23f7-474f-9115-1320456bfbbf",
   "metadata": {},
   "outputs": [
    {
     "name": "stdout",
     "output_type": "stream",
     "text": [
      "DataFrame with 'title' as the index:\n",
      "                      show_id     type         director  \\\n",
      "title                                                     \n",
      "Dick Johnson Is Dead       s1    Movie  Kirsten Johnson   \n",
      "Blood & Water              s2  TV Show                    \n",
      "Ganglands                  s3  TV Show  Julien Leclercq   \n",
      "Jailbirds New Orleans      s4  TV Show                    \n",
      "Kota Factory               s5  TV Show                    \n",
      "\n",
      "                                                                    cast  \\\n",
      "title                                                                      \n",
      "Dick Johnson Is Dead                                                 NaN   \n",
      "Blood & Water          Ama Qamata, Khosi Ngema, Gail Mabalane, Thaban...   \n",
      "Ganglands              Sami Bouajila, Tracy Gotoas, Samuel Jouy, Nabi...   \n",
      "Jailbirds New Orleans                                                NaN   \n",
      "Kota Factory           Mayur More, Jitendra Kumar, Ranjan Raj, Alam K...   \n",
      "\n",
      "                              origin  release_year rating   duration  \\\n",
      "title                                                                  \n",
      "Dick Johnson Is Dead   united_states          2020  PG-13     90 min   \n",
      "Blood & Water           south_africa          2021  TV-MA  2 Seasons   \n",
      "Ganglands                        NaN          2021  TV-MA   1 Season   \n",
      "Jailbirds New Orleans            NaN          2021  TV-MA   1 Season   \n",
      "Kota Factory                   india          2021  TV-MA  2 Seasons   \n",
      "\n",
      "                                                               listed_in  \\\n",
      "title                                                                      \n",
      "Dick Johnson Is Dead                                       Documentaries   \n",
      "Blood & Water            International TV Shows, TV Dramas, TV Mysteries   \n",
      "Ganglands              Crime TV Shows, International TV Shows, TV Act...   \n",
      "Jailbirds New Orleans                             Docuseries, Reality TV   \n",
      "Kota Factory           International TV Shows, Romantic TV Shows, TV ...   \n",
      "\n",
      "                                                             description  \\\n",
      "title                                                                      \n",
      "Dick Johnson Is Dead   As her father nears the end of his life, filmm...   \n",
      "Blood & Water          After crossing paths at a party, a Cape Town t...   \n",
      "Ganglands              To protect his family from a powerful drug lor...   \n",
      "Jailbirds New Orleans  Feuds, flirtations and toilet talk go down amo...   \n",
      "Kota Factory           In a city of coaching centers known to train I...   \n",
      "\n",
      "                      origin_first_3_chars  \n",
      "title                                       \n",
      "Dick Johnson Is Dead                   uni  \n",
      "Blood & Water                          sou  \n",
      "Ganglands                              NaN  \n",
      "Jailbirds New Orleans                  NaN  \n",
      "Kota Factory                           ind  \n"
     ]
    }
   ],
   "source": [
    "#index - Indexing and resetting index\n",
    "# Set 'title' as the index\n",
    "df.set_index('title', inplace=True)\n",
    "\n",
    "print(\"DataFrame with 'title' as the index:\")\n",
    "print(df.head())\n"
   ]
  },
  {
   "cell_type": "code",
   "execution_count": 357,
   "id": "e3eb0d8e-d722-4382-9ec1-3af6b401f52d",
   "metadata": {},
   "outputs": [
    {
     "name": "stdout",
     "output_type": "stream",
     "text": [
      "DataFrame with reset index:\n",
      "                   title show_id     type         director  \\\n",
      "0   Dick Johnson Is Dead      s1    Movie  Kirsten Johnson   \n",
      "1          Blood & Water      s2  TV Show                    \n",
      "2              Ganglands      s3  TV Show  Julien Leclercq   \n",
      "3  Jailbirds New Orleans      s4  TV Show                    \n",
      "4           Kota Factory      s5  TV Show                    \n",
      "\n",
      "                                                cast         origin  \\\n",
      "0                                                NaN  united_states   \n",
      "1  Ama Qamata, Khosi Ngema, Gail Mabalane, Thaban...   south_africa   \n",
      "2  Sami Bouajila, Tracy Gotoas, Samuel Jouy, Nabi...            NaN   \n",
      "3                                                NaN            NaN   \n",
      "4  Mayur More, Jitendra Kumar, Ranjan Raj, Alam K...          india   \n",
      "\n",
      "   release_year rating   duration  \\\n",
      "0          2020  PG-13     90 min   \n",
      "1          2021  TV-MA  2 Seasons   \n",
      "2          2021  TV-MA   1 Season   \n",
      "3          2021  TV-MA   1 Season   \n",
      "4          2021  TV-MA  2 Seasons   \n",
      "\n",
      "                                           listed_in  \\\n",
      "0                                      Documentaries   \n",
      "1    International TV Shows, TV Dramas, TV Mysteries   \n",
      "2  Crime TV Shows, International TV Shows, TV Act...   \n",
      "3                             Docuseries, Reality TV   \n",
      "4  International TV Shows, Romantic TV Shows, TV ...   \n",
      "\n",
      "                                         description origin_first_3_chars  \n",
      "0  As her father nears the end of his life, filmm...                  uni  \n",
      "1  After crossing paths at a party, a Cape Town t...                  sou  \n",
      "2  To protect his family from a powerful drug lor...                  NaN  \n",
      "3  Feuds, flirtations and toilet talk go down amo...                  NaN  \n",
      "4  In a city of coaching centers known to train I...                  ind  \n"
     ]
    }
   ],
   "source": [
    "# Reset index (back to default integer index)\n",
    "df.reset_index(inplace=True)\n",
    "\n",
    "print(\"DataFrame with reset index:\")\n",
    "print(df.head())\n"
   ]
  },
  {
   "cell_type": "code",
   "execution_count": 359,
   "id": "dd66ab59-9e89-4e22-8456-cf6382d4d335",
   "metadata": {},
   "outputs": [
    {
     "name": "stdout",
     "output_type": "stream",
     "text": [
      "DataFrame with multi-level index (origin and release_year):\n",
      "                                            title show_id     type  \\\n",
      "origin        release_year                                           \n",
      "united_states 2020           Dick Johnson Is Dead      s1    Movie   \n",
      "south_africa  2021                  Blood & Water      s2  TV Show   \n",
      "NaN           2021                      Ganglands      s3  TV Show   \n",
      "              2021          Jailbirds New Orleans      s4  TV Show   \n",
      "india         2021                   Kota Factory      s5  TV Show   \n",
      "\n",
      "                                   director  \\\n",
      "origin        release_year                    \n",
      "united_states 2020          Kirsten Johnson   \n",
      "south_africa  2021                            \n",
      "NaN           2021          Julien Leclercq   \n",
      "              2021                            \n",
      "india         2021                            \n",
      "\n",
      "                                                                         cast  \\\n",
      "origin        release_year                                                      \n",
      "united_states 2020                                                        NaN   \n",
      "south_africa  2021          Ama Qamata, Khosi Ngema, Gail Mabalane, Thaban...   \n",
      "NaN           2021          Sami Bouajila, Tracy Gotoas, Samuel Jouy, Nabi...   \n",
      "              2021                                                        NaN   \n",
      "india         2021          Mayur More, Jitendra Kumar, Ranjan Raj, Alam K...   \n",
      "\n",
      "                           rating   duration  \\\n",
      "origin        release_year                     \n",
      "united_states 2020          PG-13     90 min   \n",
      "south_africa  2021          TV-MA  2 Seasons   \n",
      "NaN           2021          TV-MA   1 Season   \n",
      "              2021          TV-MA   1 Season   \n",
      "india         2021          TV-MA  2 Seasons   \n",
      "\n",
      "                                                                    listed_in  \\\n",
      "origin        release_year                                                      \n",
      "united_states 2020                                              Documentaries   \n",
      "south_africa  2021            International TV Shows, TV Dramas, TV Mysteries   \n",
      "NaN           2021          Crime TV Shows, International TV Shows, TV Act...   \n",
      "              2021                                     Docuseries, Reality TV   \n",
      "india         2021          International TV Shows, Romantic TV Shows, TV ...   \n",
      "\n",
      "                                                                  description  \\\n",
      "origin        release_year                                                      \n",
      "united_states 2020          As her father nears the end of his life, filmm...   \n",
      "south_africa  2021          After crossing paths at a party, a Cape Town t...   \n",
      "NaN           2021          To protect his family from a powerful drug lor...   \n",
      "              2021          Feuds, flirtations and toilet talk go down amo...   \n",
      "india         2021          In a city of coaching centers known to train I...   \n",
      "\n",
      "                           origin_first_3_chars  \n",
      "origin        release_year                       \n",
      "united_states 2020                          uni  \n",
      "south_africa  2021                          sou  \n",
      "NaN           2021                          NaN  \n",
      "              2021                          NaN  \n",
      "india         2021                          ind  \n"
     ]
    }
   ],
   "source": [
    "# Set multi-level index\n",
    "df.set_index(['origin', 'release_year'], inplace=True)\n",
    "\n",
    "print(\"DataFrame with multi-level index (origin and release_year):\")\n",
    "print(df.head())\n"
   ]
  },
  {
   "cell_type": "code",
   "execution_count": 363,
   "id": "9fb7501e-02da-484e-891e-e4d61f37b7f4",
   "metadata": {},
   "outputs": [
    {
     "name": "stdout",
     "output_type": "stream",
     "text": [
      "Rows where origin is 'India':\n",
      "                                      title show_id     type  \\\n",
      "release_year                                                   \n",
      "2021                           Kota Factory      s5  TV Show   \n",
      "1998                                  Jeans     s25    Movie   \n",
      "2021                           Chhota Bheem     s40  TV Show   \n",
      "2014                          Dharmakshetra     s51  TV Show   \n",
      "2014          Raja Rasoi Aur Anya Kahaniyan     s67  TV Show   \n",
      "...                                     ...     ...      ...   \n",
      "2006                    Yanda Kartavya Aahe   s8774    Movie   \n",
      "2018                        Yeh Meri Family   s8776  TV Show   \n",
      "2014                               Zed Plus   s8799    Movie   \n",
      "2009                                  Zenda   s8800    Movie   \n",
      "2015                                 Zubaan   s8807    Movie   \n",
      "\n",
      "                             director  \\\n",
      "release_year                            \n",
      "2021                                    \n",
      "1998                       S. Shankar   \n",
      "2021                                    \n",
      "2014                                    \n",
      "2014                                    \n",
      "...                               ...   \n",
      "2006                     Kedar Shinde   \n",
      "2018                                    \n",
      "2014          Chandra Prakash Dwivedi   \n",
      "2009                   Avadhoot Gupte   \n",
      "2015                      Mozez Singh   \n",
      "\n",
      "                                                           cast rating  \\\n",
      "release_year                                                             \n",
      "2021          Mayur More, Jitendra Kumar, Ranjan Raj, Alam K...  TV-MA   \n",
      "1998          Prashanth, Aishwarya Rai Bachchan, Sri Lakshmi...  TV-14   \n",
      "2021          Vatsal Dubey, Julie Tejwani, Rupa Bhimani, Jig...  TV-Y7   \n",
      "2014          Kashmira Irani, Chandan Anand, Dinesh Mehta, A...  TV-PG   \n",
      "2014                                                        NaN   TV-G   \n",
      "...                                                         ...    ...   \n",
      "2006          Ankush Choudhary, Smita Shewale, Mohan Joshi, ...  TV-PG   \n",
      "2018          Vishesh Bansal, Mona Singh, Akarsh Khurana, Ah...  TV-PG   \n",
      "2014          Adil Hussain, Mona Singh, K.K. Raina, Sanjay M...  TV-MA   \n",
      "2009          Santosh Juvekar, Siddharth Chandekar, Sachit P...  TV-14   \n",
      "2015          Vicky Kaushal, Sarah-Jane Dias, Raaghav Chanan...  TV-14   \n",
      "\n",
      "               duration                                          listed_in  \\\n",
      "release_year                                                                 \n",
      "2021          2 Seasons  International TV Shows, Romantic TV Shows, TV ...   \n",
      "1998            166 min    Comedies, International Movies, Romantic Movies   \n",
      "2021          3 Seasons                                           Kids' TV   \n",
      "2014           1 Season  International TV Shows, TV Dramas, TV Sci-Fi &...   \n",
      "2014           1 Season                 Docuseries, International TV Shows   \n",
      "...                 ...                                                ...   \n",
      "2006            151 min             Comedies, Dramas, International Movies   \n",
      "2018           1 Season                International TV Shows, TV Comedies   \n",
      "2014            131 min             Comedies, Dramas, International Movies   \n",
      "2009            120 min                       Dramas, International Movies   \n",
      "2015            111 min     Dramas, International Movies, Music & Musicals   \n",
      "\n",
      "                                                    description  \\\n",
      "release_year                                                      \n",
      "2021          In a city of coaching centers known to train I...   \n",
      "1998          When the father of the man she loves insists t...   \n",
      "2021          A brave, energetic little boy with superhuman ...   \n",
      "2014          After the ancient Great War, the god Chitragup...   \n",
      "2014          Explore the history and flavors of regional In...   \n",
      "...                                                         ...   \n",
      "2006          Thanks to an arranged marriage that was design...   \n",
      "2018          In the summer of 1998, middle child Harshu bal...   \n",
      "2014          A philandering small-town mechanic's political...   \n",
      "2009          A change in the leadership of a political part...   \n",
      "2015          A scrappy but poor boy worms his way into a ty...   \n",
      "\n",
      "             origin_first_3_chars  \n",
      "release_year                       \n",
      "2021                          ind  \n",
      "1998                          ind  \n",
      "2021                          ind  \n",
      "2014                          ind  \n",
      "2014                          ind  \n",
      "...                           ...  \n",
      "2006                          ind  \n",
      "2018                          ind  \n",
      "2014                          ind  \n",
      "2009                          ind  \n",
      "2015                          ind  \n",
      "\n",
      "[972 rows x 10 columns]\n"
     ]
    }
   ],
   "source": [
    "# Access all rows where country is 'India'\n",
    "print(\"Rows where origin is 'India':\")\n",
    "print(df.loc['india'])\n"
   ]
  },
  {
   "cell_type": "code",
   "execution_count": 379,
   "id": "09f04190-3a83-4b81-874d-a612b8f502ba",
   "metadata": {},
   "outputs": [
    {
     "name": "stdout",
     "output_type": "stream",
     "text": [
      "Index type: <class 'pandas.core.indexes.range.RangeIndex'>\n",
      "Is index unique? True\n"
     ]
    }
   ],
   "source": [
    "# Check index type and uniqueness\n",
    "print(\"Index type:\", type(df.index))\n",
    "print(\"Is index unique?\", df.index.is_unique)\n"
   ]
  },
  {
   "cell_type": "code",
   "execution_count": 381,
   "id": "fc2e6add-ceb6-43eb-9cbb-d5ad4c8c4b73",
   "metadata": {},
   "outputs": [
    {
     "name": "stdout",
     "output_type": "stream",
     "text": [
      "DataFrame with renamed index labels:\n",
      "                                                  origin  release_year  \\\n",
      "Row_1                                      united_states          2020   \n",
      "Row_2                                       south_africa          2021   \n",
      "Row_3                                                NaN          2021   \n",
      "Row_4                                              india          2021   \n",
      "Row_5  united_states,_ghana,_burkina_faso,_united_kin...          1993   \n",
      "\n",
      "                      title show_id     type         director  \\\n",
      "Row_1  Dick Johnson Is Dead      s1    Movie  Kirsten Johnson   \n",
      "Row_2         Blood & Water      s2  TV Show                    \n",
      "Row_3             Ganglands      s3  TV Show  Julien Leclercq   \n",
      "Row_4          Kota Factory      s5  TV Show                    \n",
      "Row_5               Sankofa      s8    Movie     Haile Gerima   \n",
      "\n",
      "                                                    cast rating   duration  \\\n",
      "Row_1                                                NaN  PG-13     90 min   \n",
      "Row_2  Ama Qamata, Khosi Ngema, Gail Mabalane, Thaban...  TV-MA  2 Seasons   \n",
      "Row_3  Sami Bouajila, Tracy Gotoas, Samuel Jouy, Nabi...  TV-MA   1 Season   \n",
      "Row_4  Mayur More, Jitendra Kumar, Ranjan Raj, Alam K...  TV-MA  2 Seasons   \n",
      "Row_5  Kofi Ghanaba, Oyafunmike Ogunlano, Alexandra D...  TV-MA    125 min   \n",
      "\n",
      "                                               listed_in  \\\n",
      "Row_1                                      Documentaries   \n",
      "Row_2    International TV Shows, TV Dramas, TV Mysteries   \n",
      "Row_3  Crime TV Shows, International TV Shows, TV Act...   \n",
      "Row_4  International TV Shows, Romantic TV Shows, TV ...   \n",
      "Row_5   Dramas, Independent Movies, International Movies   \n",
      "\n",
      "                                             description origin_first_3_chars  \n",
      "Row_1  As her father nears the end of his life, filmm...                  uni  \n",
      "Row_2  After crossing paths at a party, a Cape Town t...                  sou  \n",
      "Row_3  To protect his family from a powerful drug lor...                  NaN  \n",
      "Row_4  In a city of coaching centers known to train I...                  ind  \n",
      "Row_5  On a photo shoot in Ghana, an American model s...                  uni  \n"
     ]
    }
   ],
   "source": [
    "# Rename the index labels\n",
    "df.index = ['Row_' + str(i) for i in range(1, len(df) + 1)]\n",
    "\n",
    "print(\"DataFrame with renamed index labels:\")\n",
    "print(df.head())\n"
   ]
  },
  {
   "cell_type": "code",
   "execution_count": 385,
   "id": "441d1bca-906a-4108-a155-78eabb5b48c6",
   "metadata": {},
   "outputs": [
    {
     "name": "stdout",
     "output_type": "stream",
     "text": [
      "Average release year for each origin:\n",
      "origin\n",
      ",_france,_algeria                                      2014.0\n",
      ",_south_korea                                          2021.0\n",
      "argentina                                              2010.5\n",
      "argentina,_brazil,_france,_poland,_germany,_denmark    2017.0\n",
      "argentina,_chile                                       2011.5\n",
      "                                                        ...  \n",
      "venezuela                                              2017.0\n",
      "venezuela,_colombia                                    2007.0\n",
      "vietnam                                                2017.5\n",
      "west_germany                                           1977.0\n",
      "zimbabwe                                               2017.0\n",
      "Name: release_year, Length: 748, dtype: float64\n"
     ]
    }
   ],
   "source": [
    "#groupby - Grouping data\n",
    "\n",
    "print(\"Average release year for each origin:\")\n",
    "print(df.groupby('origin')['release_year'].mean())\n"
   ]
  },
  {
   "cell_type": "code",
   "execution_count": 387,
   "id": "890333a6-fe28-48da-a3cb-6d3b87cf9ed9",
   "metadata": {},
   "outputs": [
    {
     "name": "stdout",
     "output_type": "stream",
     "text": [
      "Count of shows for each release year:\n",
      "release_year\n",
      "1925      1\n",
      "1942      1\n",
      "1943      1\n",
      "1944      2\n",
      "1945      1\n",
      "       ... \n",
      "2018    169\n",
      "2019    140\n",
      "2020    108\n",
      "2021     76\n",
      "2024      1\n",
      "Length: 75, dtype: int64\n"
     ]
    }
   ],
   "source": [
    "print(\"Count of shows for each release year:\")\n",
    "print(df.groupby('release_year').size())\n"
   ]
  },
  {
   "cell_type": "code",
   "execution_count": 389,
   "id": "d547bbe5-1ae8-492b-8e10-9702af2d4fe2",
   "metadata": {},
   "outputs": [
    {
     "name": "stdout",
     "output_type": "stream",
     "text": [
      "Count of Movies and TV Shows:\n",
      "type\n",
      "Movie      1399\n",
      "TV Show     395\n",
      "dtype: int64\n"
     ]
    }
   ],
   "source": [
    "print(\"Count of Movies and TV Shows:\")\n",
    "print(df.groupby('type').size())\n"
   ]
  },
  {
   "cell_type": "code",
   "execution_count": 393,
   "id": "fa8ade2c-45e0-4f07-a7f3-4125cc8d6889",
   "metadata": {},
   "outputs": [
    {
     "name": "stdout",
     "output_type": "stream",
     "text": [
      "Total duration of shows by origin:\n",
      "origin\n",
      ",_france,_algeria                                                                                103 min\n",
      ",_south_korea                                                                                   1 Season\n",
      "argentina                                              1 Season95 min1 Season1 Season106 min1 Season1...\n",
      "argentina,_brazil,_france,_poland,_germany,_denmark                                               96 min\n",
      "argentina,_chile                                                                           112 min78 min\n",
      "                                                                             ...                        \n",
      "venezuela                                                                                        119 min\n",
      "venezuela,_colombia                                                                               82 min\n",
      "vietnam                                                         117 min117 min93 min116 min112 min92 min\n",
      "west_germany                                                                                     150 min\n",
      "zimbabwe                                                                                         100 min\n",
      "Name: duration, Length: 748, dtype: object\n"
     ]
    }
   ],
   "source": [
    "print(\"Total duration of shows by origin:\")\n",
    "print(df.groupby('origin')['duration'].sum())\n"
   ]
  },
  {
   "cell_type": "code",
   "execution_count": 395,
   "id": "a7667952-9d65-40b4-8a5d-11bf990fe697",
   "metadata": {},
   "outputs": [
    {
     "name": "stdout",
     "output_type": "stream",
     "text": [
      "Number of unique shows per origin:\n",
      "origin\n",
      ",_france,_algeria                                       1\n",
      ",_south_korea                                           1\n",
      "argentina                                              12\n",
      "argentina,_brazil,_france,_poland,_germany,_denmark     1\n",
      "argentina,_chile                                        2\n",
      "                                                       ..\n",
      "venezuela                                               1\n",
      "venezuela,_colombia                                     1\n",
      "vietnam                                                 6\n",
      "west_germany                                            1\n",
      "zimbabwe                                                1\n",
      "Name: title, Length: 748, dtype: int64\n"
     ]
    }
   ],
   "source": [
    "print(\"Number of unique shows per origin:\")\n",
    "print(df.groupby('origin')['title'].nunique())\n"
   ]
  },
  {
   "cell_type": "code",
   "execution_count": 397,
   "id": "de9d2bb5-9311-4d7f-baf7-a391b0b7439a",
   "metadata": {},
   "outputs": [
    {
     "name": "stdout",
     "output_type": "stream",
     "text": [
      "Count of shows by origin and release year:\n",
      "origin             release_year\n",
      ",_france,_algeria  2014            1\n",
      ",_south_korea      2021            1\n",
      "argentina          1985            1\n",
      "                   1998            1\n",
      "                   2004            1\n",
      "                                  ..\n",
      "vietnam            2019            1\n",
      "                   2020            1\n",
      "                   2021            1\n",
      "west_germany       1977            1\n",
      "zimbabwe           2017            1\n",
      "Length: 1755, dtype: int64\n"
     ]
    }
   ],
   "source": [
    "print(\"Count of shows by origin and release year:\")\n",
    "print(df.groupby(['origin', 'release_year']).size())\n"
   ]
  },
  {
   "cell_type": "code",
   "execution_count": 399,
   "id": "ef4e7c14-865e-4492-b927-8371149470ca",
   "metadata": {},
   "outputs": [
    {
     "name": "stdout",
     "output_type": "stream",
     "text": [
      "Mean and median release year for each origin:\n",
      "                                                      mean  median\n",
      "origin                                                            \n",
      ",_france,_algeria                                   2014.0  2014.0\n",
      ",_south_korea                                       2021.0  2021.0\n",
      "argentina                                           2010.5  2015.5\n",
      "argentina,_brazil,_france,_poland,_germany,_den...  2017.0  2017.0\n",
      "argentina,_chile                                    2011.5  2011.5\n",
      "...                                                    ...     ...\n",
      "venezuela                                           2017.0  2017.0\n",
      "venezuela,_colombia                                 2007.0  2007.0\n",
      "vietnam                                             2017.5  2017.5\n",
      "west_germany                                        1977.0  1977.0\n",
      "zimbabwe                                            2017.0  2017.0\n",
      "\n",
      "[748 rows x 2 columns]\n"
     ]
    }
   ],
   "source": [
    "#aggregation - Performing multiple aggregations\n",
    "\n",
    "print(\"Mean and median release year for each origin:\")\n",
    "print(df.groupby('origin')['release_year'].agg(['mean', 'median']))\n"
   ]
  },
  {
   "cell_type": "code",
   "execution_count": 405,
   "id": "9a063f48-1f95-4237-9e73-d2530505fc7d",
   "metadata": {},
   "outputs": [
    {
     "name": "stdout",
     "output_type": "stream",
     "text": [
      "Release year stats by origin:\n",
      "                                                     min   max  count\n",
      "origin                                                               \n",
      ",_france,_algeria                                   2014  2014      1\n",
      ",_south_korea                                       2021  2021      1\n",
      "argentina                                           1985  2021     12\n",
      "argentina,_brazil,_france,_poland,_germany,_den...  2017  2017      1\n",
      "argentina,_chile                                    2006  2017      2\n",
      "...                                                  ...   ...    ...\n",
      "venezuela                                           2017  2017      1\n",
      "venezuela,_colombia                                 2007  2007      1\n",
      "vietnam                                             2014  2021      6\n",
      "west_germany                                        1977  1977      1\n",
      "zimbabwe                                            2017  2017      1\n",
      "\n",
      "[748 rows x 3 columns]\n"
     ]
    }
   ],
   "source": [
    "print(\"Release year stats by origin:\")\n",
    "print(df.groupby('origin')['release_year'].agg(['min', 'max', 'count']))\n",
    "\n"
   ]
  },
  {
   "cell_type": "code",
   "execution_count": 415,
   "id": "8edc0c65-0c30-439a-984f-bf152c459977",
   "metadata": {},
   "outputs": [
    {
     "name": "stdout",
     "output_type": "stream",
     "text": [
      "Range of release years per origin:\n",
      "origin\n",
      ",_france,_algeria                                       0\n",
      ",_south_korea                                           0\n",
      "argentina                                              36\n",
      "argentina,_brazil,_france,_poland,_germany,_denmark     0\n",
      "argentina,_chile                                       11\n",
      "                                                       ..\n",
      "venezuela                                               0\n",
      "venezuela,_colombia                                     0\n",
      "vietnam                                                 7\n",
      "west_germany                                            0\n",
      "zimbabwe                                                0\n",
      "Name: release_year, Length: 748, dtype: int64\n"
     ]
    }
   ],
   "source": [
    "# Custom function to calculate range (max - min)\n",
    "def year_range(x):\n",
    "    return x.max() - x.min()\n",
    "\n",
    "print(\"Range of release years per origin:\")\n",
    "print(df.groupby('origin')['release_year'].agg(year_range))\n",
    "\n",
    "\n"
   ]
  },
  {
   "cell_type": "code",
   "execution_count": 421,
   "id": "ee2fcd40-4dcd-4600-83b9-e222c08a0841",
   "metadata": {},
   "outputs": [
    {
     "name": "stdout",
     "output_type": "stream",
     "text": [
      "Collecting faker\n",
      "  Downloading faker-37.0.0-py3-none-any.whl.metadata (15 kB)\n",
      "Requirement already satisfied: tzdata in c:\\users\\verma\\anaconda3\\lib\\site-packages (from faker) (2023.3)\n",
      "Downloading faker-37.0.0-py3-none-any.whl (1.9 MB)\n",
      "   ---------------------------------------- 0.0/1.9 MB ? eta -:--:--\n",
      "   ---------------------------------------- 0.0/1.9 MB ? eta -:--:--\n",
      "   ----- ---------------------------------- 0.3/1.9 MB ? eta -:--:--\n",
      "   ---------- ----------------------------- 0.5/1.9 MB 1.5 MB/s eta 0:00:01\n",
      "   --------------------- ------------------ 1.0/1.9 MB 1.6 MB/s eta 0:00:01\n",
      "   --------------------------- ------------ 1.3/1.9 MB 1.5 MB/s eta 0:00:01\n",
      "   -------------------------------- ------- 1.6/1.9 MB 1.6 MB/s eta 0:00:01\n",
      "   ---------------------------------------- 1.9/1.9 MB 1.4 MB/s eta 0:00:00\n",
      "Installing collected packages: faker\n",
      "Successfully installed faker-37.0.0\n"
     ]
    }
   ],
   "source": [
    "#faker - Generating Fake Data for Testing:\n",
    "\n",
    "!pip install faker\n"
   ]
  },
  {
   "cell_type": "code",
   "execution_count": 422,
   "id": "0a434c53-bdfe-4d47-af6d-a653e57a16f9",
   "metadata": {},
   "outputs": [
    {
     "name": "stdout",
     "output_type": "stream",
     "text": [
      "              Name                                            Address  \\\n",
      "0  Elizabeth Smith      08758 Gutierrez Road\\nJohnathanfurt, TX 81275   \n",
      "1   Casey Harrison             673 Ward Harbor\\nNielsenview, CT 69944   \n",
      "2       Noah Perry                   Unit 0338 Box 1362\\nDPO AA 42804   \n",
      "3    George Rogers  903 King Inlet Apt. 179\\nWest Katherinefort, K...   \n",
      "4      James Berry  35362 Williams Union\\nPort Christophermouth, A...   \n",
      "\n",
      "         Date  \n",
      "0  2003-04-01  \n",
      "1  2004-10-23  \n",
      "2  1984-03-06  \n",
      "3  1994-09-15  \n",
      "4  1973-10-31  \n"
     ]
    }
   ],
   "source": [
    "import pandas as pd\n",
    "from faker import Faker\n",
    "\n",
    "# Initialize Faker\n",
    "fake = Faker()\n",
    "\n",
    "# Create a fake dataset\n",
    "data = {\n",
    "    'Name': [fake.name() for _ in range(100)],\n",
    "    'Address': [fake.address() for _ in range(100)],\n",
    "    'Date': [fake.date() for _ in range(100)]\n",
    "}\n",
    "\n",
    "# Convert to DataFrame\n",
    "df_fake = pd.DataFrame(data)\n",
    "print(df_fake.head())\n"
   ]
  },
  {
   "cell_type": "code",
   "execution_count": 425,
   "id": "7eee6a59-18de-4674-8643-09a3562b3b4c",
   "metadata": {},
   "outputs": [
    {
     "name": "stdout",
     "output_type": "stream",
     "text": [
      "              Name                       Email\n",
      "0  Elizabeth Smith     catherine66@example.com\n",
      "1   Casey Harrison       ematthews@example.org\n",
      "2       Noah Perry  gregoryjohnson@example.com\n",
      "3    George Rogers         lburton@example.org\n",
      "4      James Berry       zgonzales@example.org\n"
     ]
    }
   ],
   "source": [
    "df_fake['Email'] = [fake.email() for _ in range(100)]\n",
    "print(df_fake[['Name', 'Email']].head())\n"
   ]
  },
  {
   "cell_type": "code",
   "execution_count": 427,
   "id": "02520654-0073-4c72-8c54-50537b8050f3",
   "metadata": {},
   "outputs": [
    {
     "name": "stdout",
     "output_type": "stream",
     "text": [
      "              Name  Birth_Date  Age\n",
      "0  Elizabeth Smith  1982-01-27   43\n",
      "1   Casey Harrison  1985-01-05   40\n",
      "2       Noah Perry  1999-10-23   26\n",
      "3    George Rogers  1966-12-21   59\n",
      "4      James Berry  1964-10-25   61\n"
     ]
    }
   ],
   "source": [
    "df_fake['Birth_Date'] = [fake.date_of_birth(minimum_age=18, maximum_age=70) for _ in range(100)]\n",
    "df_fake['Age'] = pd.to_datetime('today').year - pd.to_datetime(df_fake['Birth_Date']).dt.year\n",
    "print(df_fake[['Name', 'Birth_Date', 'Age']].head())\n"
   ]
  },
  {
   "cell_type": "code",
   "execution_count": 429,
   "id": "d2e19343-8b16-4ecb-9afd-050702bc6b76",
   "metadata": {},
   "outputs": [
    {
     "name": "stdout",
     "output_type": "stream",
     "text": [
      "  Product_Name  Price\n",
      "0       minute     42\n",
      "1        quite     90\n",
      "2       around     10\n",
      "3        which     47\n",
      "4    president     15\n",
      "5   everything     28\n",
      "6    knowledge     61\n",
      "7     approach     20\n",
      "8       change     94\n",
      "9    authority     73\n"
     ]
    }
   ],
   "source": [
    "data_products = {\n",
    "    'Product_Name': [fake.word() for _ in range(10)],\n",
    "    'Price': [round(fake.random_number(digits=2), 2) for _ in range(10)]\n",
    "}\n",
    "\n",
    "df_products = pd.DataFrame(data_products)\n",
    "print(df_products)\n"
   ]
  },
  {
   "cell_type": "code",
   "execution_count": 431,
   "id": "929c0d9c-4301-405d-97c0-1fd731d66674",
   "metadata": {},
   "outputs": [
    {
     "name": "stdout",
     "output_type": "stream",
     "text": [
      "              Name               City        Phone_Number\n",
      "0   Madison Willis          Jonesfurt       (538)727-8455\n",
      "1       Julia Cole  East Jessicamouth    001-514-776-1669\n",
      "2    Michael Smith        Marcushaven  (764)498-8060x4134\n",
      "3   Katrina Keller        Stewartview        278.477.6086\n",
      "4  Joshua Harrison          Davidstad  826.487.4651x44572\n"
     ]
    }
   ],
   "source": [
    "data_users = {\n",
    "    'Name': [fake.name() for _ in range(50)],\n",
    "    'City': [fake.city() for _ in range(50)],\n",
    "    'Phone_Number': [fake.phone_number() for _ in range(50)]\n",
    "}\n",
    "\n",
    "df_users = pd.DataFrame(data_users)\n",
    "print(df_users.head())\n"
   ]
  },
  {
   "cell_type": "code",
   "execution_count": 433,
   "id": "d0c89557-9ff6-4cf7-bd08-167e4a2b9e29",
   "metadata": {},
   "outputs": [
    {
     "name": "stdout",
     "output_type": "stream",
     "text": [
      "Merged DataFrame:\n",
      "   Product_ID Product_Name  Price\n",
      "0           1            A    100\n",
      "1           2            B    150\n"
     ]
    }
   ],
   "source": [
    "#merge - Merging DataFrames:\n",
    "\n",
    "# Sample DataFrames\n",
    "df1 = pd.DataFrame({'Product_ID': [1, 2, 3], 'Product_Name': ['A', 'B', 'C']})\n",
    "df2 = pd.DataFrame({'Product_ID': [1, 2, 4], 'Price': [100, 150, 200]})\n",
    "\n",
    "# Merge on 'Product_ID'\n",
    "merged_df = pd.merge(df1, df2, on='Product_ID')\n",
    "\n",
    "print(\"Merged DataFrame:\")\n",
    "print(merged_df)\n"
   ]
  },
  {
   "cell_type": "code",
   "execution_count": 435,
   "id": "0b076d62-1f94-4f93-ac36-cd2527547a42",
   "metadata": {},
   "outputs": [
    {
     "name": "stdout",
     "output_type": "stream",
     "text": [
      "Left Join DataFrame:\n",
      "   Product_ID Product_Name  Price\n",
      "0           1            A  100.0\n",
      "1           2            B  150.0\n",
      "2           3            C    NaN\n"
     ]
    }
   ],
   "source": [
    "left_join_df = pd.merge(df1, df2, on='Product_ID', how='left')\n",
    "\n",
    "print(\"Left Join DataFrame:\")\n",
    "print(left_join_df)\n"
   ]
  },
  {
   "cell_type": "code",
   "execution_count": 438,
   "id": "a9cf307f-ab3f-4ab9-9801-c2da1b54ca9a",
   "metadata": {},
   "outputs": [
    {
     "name": "stdout",
     "output_type": "stream",
     "text": [
      "Outer Join DataFrame:\n",
      "   Product_ID Product_Name  Price\n",
      "0           1            A  100.0\n",
      "1           2            B  150.0\n",
      "2           3            C    NaN\n",
      "3           4          NaN  200.0\n"
     ]
    }
   ],
   "source": [
    "outer_join_df = pd.merge(df1, df2, on='Product_ID', how='outer')\n",
    "\n",
    "print(\"Outer Join DataFrame:\")\n",
    "print(outer_join_df)\n"
   ]
  },
  {
   "cell_type": "code",
   "execution_count": 440,
   "id": "248ba395-4445-4401-900d-4f05e0e38695",
   "metadata": {},
   "outputs": [
    {
     "name": "stdout",
     "output_type": "stream",
     "text": [
      "Merged on multiple columns:\n",
      "          city  release_year    title rating\n",
      "0     New York          2020  Movie A  PG-13\n",
      "1  Los Angeles          2019  Movie B      R\n"
     ]
    }
   ],
   "source": [
    "df1 = pd.DataFrame({'city': ['New York', 'Los Angeles', 'Chicago'], 'release_year': [2020, 2019, 2021], 'title': ['Movie A', 'Movie B', 'Movie C']})\n",
    "df2 = pd.DataFrame({'city': ['New York', 'Los Angeles', 'Houston'], 'release_year': [2020, 2019, 2021], 'rating': ['PG-13', 'R', 'G']})\n",
    "\n",
    "merged_df = pd.merge(df1, df2, on=['city', 'release_year'], how='inner')\n",
    "\n",
    "print(\"Merged on multiple columns:\")\n",
    "print(merged_df)\n"
   ]
  },
  {
   "cell_type": "code",
   "execution_count": 442,
   "id": "55ad3d39-b451-4168-8db9-00ba244d6ba4",
   "metadata": {},
   "outputs": [
    {
     "name": "stdout",
     "output_type": "stream",
     "text": [
      "Inner Join DataFrame:\n",
      "  Country  Population      Continent\n",
      "0     USA         330  North America\n",
      "1  Canada          38  North America\n"
     ]
    }
   ],
   "source": [
    "df1 = pd.DataFrame({'Country': ['USA', 'Canada', 'UK'], 'Population': [330, 38, 68]})\n",
    "df2 = pd.DataFrame({'Country': ['USA', 'Canada', 'Australia'], 'Continent': ['North America', 'North America', 'Oceania']})\n",
    "\n",
    "inner_join_df = pd.merge(df1, df2, on='Country', how='inner')\n",
    "\n",
    "print(\"Inner Join DataFrame:\")\n",
    "print(inner_join_df)\n"
   ]
  },
  {
   "cell_type": "code",
   "execution_count": 444,
   "id": "d168db45-2328-478a-bdac-718452a2993c",
   "metadata": {},
   "outputs": [
    {
     "name": "stdout",
     "output_type": "stream",
     "text": [
      "Full Outer Join DataFrame:\n",
      "     Country  Population      Continent\n",
      "0  Australia         NaN        Oceania\n",
      "1     Canada        38.0  North America\n",
      "2         UK        68.0            NaN\n",
      "3        USA       330.0  North America\n"
     ]
    }
   ],
   "source": [
    "full_outer_df = pd.merge(df1, df2, on='Country', how='outer')\n",
    "\n",
    "print(\"Full Outer Join DataFrame:\")\n",
    "print(full_outer_df)\n"
   ]
  },
  {
   "cell_type": "code",
   "execution_count": 446,
   "id": "58192405-44c6-4739-ba2b-336798af7a8b",
   "metadata": {},
   "outputs": [
    {
     "name": "stdout",
     "output_type": "stream",
     "text": [
      "DataFrame saved to 'netflix_cleaned.csv'\n"
     ]
    }
   ],
   "source": [
    "#Saving and Exporting Data:\n",
    "\n",
    "# Save DataFrame to CSV\n",
    "df.to_csv('netflix_cleaned.csv', index=False)\n",
    "\n",
    "print(\"DataFrame saved to 'netflix_cleaned.csv'\")\n"
   ]
  },
  {
   "cell_type": "code",
   "execution_count": 448,
   "id": "de6ede53-ca1f-4f00-84d0-408eb32f4884",
   "metadata": {},
   "outputs": [
    {
     "name": "stdout",
     "output_type": "stream",
     "text": [
      "DataFrame saved to 'netflix_cleaned.xlsx'\n"
     ]
    }
   ],
   "source": [
    "# Save DataFrame to Excel\n",
    "df.to_excel('netflix_cleaned.xlsx', index=False)\n",
    "\n",
    "print(\"DataFrame saved to 'netflix_cleaned.xlsx'\")\n"
   ]
  },
  {
   "cell_type": "code",
   "execution_count": 488,
   "id": "e3cbf903-8c8a-4762-b651-32316f0bfa8e",
   "metadata": {},
   "outputs": [
    {
     "name": "stdout",
     "output_type": "stream",
     "text": [
      "Filtered DataFrame (Age 2003-2020, origin = india):\n",
      "        origin  release_year                                title show_id  \\\n",
      "Row_29   india          2014                        Dharmakshetra     s51   \n",
      "Row_42   india          2015       Stories by Rabindranath Tagore     s70   \n",
      "Row_56   india          2017                     Angamaly Diaries    s106   \n",
      "Row_65   india          2020                              Shikara    s127   \n",
      "Row_110  india          2008                           C Kkompany    s193   \n",
      "Row_113  india          2006                           Koi Aap Sa    s200   \n",
      "Row_114  india          2004                      Krishna Cottage    s201   \n",
      "Row_115  india          2003                         Kucch To Hai    s202   \n",
      "Row_116  india          2005                    Kyaa Kool Hai Hum    s203   \n",
      "Row_117  india          2016                 Kyaa Kool Hain Hum 3    s204   \n",
      "Row_118  india          2012             Kyaa Super Kool Hain Hum    s205   \n",
      "Row_120  india          2010            LSD: Love, Sex Aur Dhokha    s207   \n",
      "Row_121  india          2013  Once Upon a Time in Mumbai Dobaara!    s210   \n",
      "Row_122  india          2011                           Ragini MMS    s211   \n",
      "Row_124  india          2007              Shootout at Lokhandwala    s216   \n",
      "Row_188  india          2009             Chhota Bheem aur Krishna    s416   \n",
      "Row_225  india          2018                     Truckbhar Swapna    s542   \n",
      "Row_339  india          2019                 Ram Prasad Ki Tehrvi    s975   \n",
      "\n",
      "            type                    director  \\\n",
      "Row_29   TV Show                               \n",
      "Row_42   TV Show                               \n",
      "Row_56     Movie        Lijo Jose Pellissery   \n",
      "Row_65     Movie          Vidhu Vinod Chopra   \n",
      "Row_110    Movie                Sachin Yardi   \n",
      "Row_113    Movie                Partho Mitra   \n",
      "Row_114    Movie               Santram Varma   \n",
      "Row_115    Movie  Anil V. Kumar, Anurag Basu   \n",
      "Row_116    Movie              Sangeeth Sivan   \n",
      "Row_117    Movie                Umesh Ghadge   \n",
      "Row_118    Movie                Sachin Yardi   \n",
      "Row_120    Movie            Dibakar Banerjee   \n",
      "Row_121    Movie               Milan Luthria   \n",
      "Row_122    Movie             Pawan Kripalani   \n",
      "Row_124    Movie              Apoorva Lakhia   \n",
      "Row_188    Movie               Rajiv Chilaka   \n",
      "Row_225    Movie                Pramod Pawar   \n",
      "Row_339    Movie                 Seema Pahwa   \n",
      "\n",
      "                                                      cast rating  duration  \\\n",
      "Row_29   Kashmira Irani, Chandan Anand, Dinesh Mehta, A...  TV-PG  1 Season   \n",
      "Row_42                                                 NaN  TV-PG  1 Season   \n",
      "Row_56   Antony Varghese, Reshma Rajan, Binny Rinky Ben...  TV-14   128 min   \n",
      "Row_65   Aadil Khan, Sadia Khateeb, Zain Khan Durrani, ...  TV-14   115 min   \n",
      "Row_110  Mithun Chakraborty, Tusshar Kapoor, Anupam Khe...  TV-14   127 min   \n",
      "Row_113  Aftab Shivdasani, Natassha, Dipannita Sharma, ...  TV-14   135 min   \n",
      "Row_114  Sohail Khan, Isha Koppikar, Natassha, Rati Agn...  TV-14   124 min   \n",
      "Row_115  Tusshar Kapoor, Esha Deol, Natassha, Vrajesh H...  TV-14   136 min   \n",
      "Row_116  Tusshar Kapoor, Riteish Deshmukh, Isha Koppika...  TV-MA   165 min   \n",
      "Row_117  Tusshar Kapoor, Aftab Shivdasani, Krishna Abhi...  TV-MA   124 min   \n",
      "Row_118  Tusshar Kapoor, Riteish Deshmukh, Anupam Kher,...  TV-MA   136 min   \n",
      "Row_120  Nushrat Bharucha, Anshuman Jha, Neha Chauhan, ...  TV-MA   112 min   \n",
      "Row_121  Akshay Kumar, Imran Khan, Sonakshi Sinha, Sona...  TV-14   142 min   \n",
      "Row_122  Kainaz Motivala, Rajkummar Rao, Rajat Kaul, Ja...  TV-MA    93 min   \n",
      "Row_124  Amitabh Bachchan, Sanjay Dutt, Sunil Shetty, A...  TV-MA   116 min   \n",
      "Row_188  Vatsal Dubey, Julie Tejwani, Rupa Bhimani, Jig...  TV-Y7    68 min   \n",
      "Row_225  Makrand Deshpande, Kranti Redkar, Mukesh Rishi...  TV-14   128 min   \n",
      "Row_339  Supriya Pathak, Parambrata Chatterjee, Konkona...  TV-14   113 min   \n",
      "\n",
      "                                                 listed_in  \\\n",
      "Row_29   International TV Shows, TV Dramas, TV Sci-Fi &...   \n",
      "Row_42                   International TV Shows, TV Dramas   \n",
      "Row_56                Action & Adventure, Comedies, Dramas   \n",
      "Row_65       Dramas, International Movies, Romantic Movies   \n",
      "Row_110  Action & Adventure, Comedies, International Mo...   \n",
      "Row_113             Comedies, Dramas, International Movies   \n",
      "Row_114  Action & Adventure, Horror Movies, Internation...   \n",
      "Row_115            Dramas, International Movies, Thrillers   \n",
      "Row_116   Comedies, International Movies, Music & Musicals   \n",
      "Row_117                     Comedies, International Movies   \n",
      "Row_118                     Comedies, International Movies   \n",
      "Row_120   Dramas, Independent Movies, International Movies   \n",
      "Row_121     Dramas, International Movies, Music & Musicals   \n",
      "Row_122                Horror Movies, International Movies   \n",
      "Row_124   Action & Adventure, Dramas, International Movies   \n",
      "Row_188                           Children & Family Movies   \n",
      "Row_225             Comedies, Dramas, International Movies   \n",
      "Row_339   Dramas, Independent Movies, International Movies   \n",
      "\n",
      "                                               description  \\\n",
      "Row_29   After the ancient Great War, the god Chitragup...   \n",
      "Row_42   The writings of Nobel Prize winner Rabindranat...   \n",
      "Row_56   After growing up amidst the gang wars of his h...   \n",
      "Row_65   A couple must strive to remain resilient after...   \n",
      "Row_110  Three broke friends pose as an underworld gang...   \n",
      "Row_113  Star athlete Rohan has his eye on a beautiful ...   \n",
      "Row_114  True love is put to the test when another woma...   \n",
      "Row_115  A student tries to steal a test from a teacher...   \n",
      "Row_116  Longtime friends Rahul and Karan head to Mumba...   \n",
      "Row_117  When an unlikely porn actor falls for a woman ...   \n",
      "Row_118  An aspiring actor and a struggling DJ team up ...   \n",
      "Row_120  This provocative drama examines how the voyeur...   \n",
      "Row_121  This turbulent sequel to Once Upon a Time in M...   \n",
      "Row_122  A couple out to have a sensuous weekend at a h...   \n",
      "Row_124  Based on a true story, this action film follow...   \n",
      "Row_188  Centuries after the end of a conqueror's rule,...   \n",
      "Row_225  A taxi driver living in a Mumbai slum seeks to...   \n",
      "Row_339  Conflicts, complications and confrontations ma...   \n",
      "\n",
      "        origin_first_3_chars  \n",
      "Row_29                   ind  \n",
      "Row_42                   ind  \n",
      "Row_56                   ind  \n",
      "Row_65                   ind  \n",
      "Row_110                  ind  \n",
      "Row_113                  ind  \n",
      "Row_114                  ind  \n",
      "Row_115                  ind  \n",
      "Row_116                  ind  \n",
      "Row_117                  ind  \n",
      "Row_118                  ind  \n",
      "Row_120                  ind  \n",
      "Row_121                  ind  \n",
      "Row_122                  ind  \n",
      "Row_124                  ind  \n",
      "Row_188                  ind  \n",
      "Row_225                  ind  \n",
      "Row_339                  ind  \n"
     ]
    }
   ],
   "source": [
    "#COMPULSORY QUESTION:\n",
    "#1. Complex Filtering and Aggregation:\n",
    "\n",
    "# Step 1: Filter rows where release_year is between 2003 and 2020 and origin is \"Los Angeles\"\n",
    "filtered_df = df[(df['release_year'] >= 2003) & (df['release_year'] <= 2020) & (df['origin'] == 'india')]\n",
    "print(\"Filtered DataFrame (Age 2003-2020, origin = india):\")\n",
    "print(filtered_df)\n"
   ]
  },
  {
   "cell_type": "code",
   "execution_count": 490,
   "id": "7ecb3431-6462-4712-9254-5c58008c6757",
   "metadata": {},
   "outputs": [
    {
     "name": "stdout",
     "output_type": "stream",
     "text": [
      "\n",
      "Mean and Median of release_year grouped by title:\n",
      "                                       mean  median\n",
      "title                                              \n",
      "Angamaly Diaries                     2017.0  2017.0\n",
      "C Kkompany                           2008.0  2008.0\n",
      "Chhota Bheem aur Krishna             2009.0  2009.0\n",
      "Dharmakshetra                        2014.0  2014.0\n",
      "Koi Aap Sa                           2006.0  2006.0\n",
      "Krishna Cottage                      2004.0  2004.0\n",
      "Kucch To Hai                         2003.0  2003.0\n",
      "Kyaa Kool Hai Hum                    2005.0  2005.0\n",
      "Kyaa Kool Hain Hum 3                 2016.0  2016.0\n",
      "Kyaa Super Kool Hain Hum             2012.0  2012.0\n",
      "LSD: Love, Sex Aur Dhokha            2010.0  2010.0\n",
      "Once Upon a Time in Mumbai Dobaara!  2013.0  2013.0\n",
      "Ragini MMS                           2011.0  2011.0\n",
      "Ram Prasad Ki Tehrvi                 2019.0  2019.0\n",
      "Shikara                              2020.0  2020.0\n",
      "Shootout at Lokhandwala              2007.0  2007.0\n",
      "Stories by Rabindranath Tagore       2015.0  2015.0\n",
      "Truckbhar Swapna                     2018.0  2018.0\n"
     ]
    }
   ],
   "source": [
    "# Step 2: Group by title and calculate mean and median of release_year\n",
    "release_year_stats = filtered_df.groupby('title')['release_year'].agg(['mean', 'median'])\n",
    "\n",
    "print(\"\\nMean and Median of release_year grouped by title:\")\n",
    "print(release_year_stats)"
   ]
  },
  {
   "cell_type": "code",
   "execution_count": 492,
   "id": "bd1f48c1-02c3-4e6f-8aee-35ec7371c39a",
   "metadata": {},
   "outputs": [
    {
     "name": "stdout",
     "output_type": "stream",
     "text": [
      "\n",
      "Sorted by release_year (descending):\n",
      "                                       mean  median\n",
      "title                                              \n",
      "Shikara                              2020.0  2020.0\n",
      "Ram Prasad Ki Tehrvi                 2019.0  2019.0\n",
      "Truckbhar Swapna                     2018.0  2018.0\n",
      "Angamaly Diaries                     2017.0  2017.0\n",
      "Kyaa Kool Hain Hum 3                 2016.0  2016.0\n",
      "Stories by Rabindranath Tagore       2015.0  2015.0\n",
      "Dharmakshetra                        2014.0  2014.0\n",
      "Once Upon a Time in Mumbai Dobaara!  2013.0  2013.0\n",
      "Kyaa Super Kool Hain Hum             2012.0  2012.0\n",
      "Ragini MMS                           2011.0  2011.0\n",
      "LSD: Love, Sex Aur Dhokha            2010.0  2010.0\n",
      "Chhota Bheem aur Krishna             2009.0  2009.0\n",
      "C Kkompany                           2008.0  2008.0\n",
      "Shootout at Lokhandwala              2007.0  2007.0\n",
      "Koi Aap Sa                           2006.0  2006.0\n",
      "Kyaa Kool Hai Hum                    2005.0  2005.0\n",
      "Krishna Cottage                      2004.0  2004.0\n",
      "Kucch To Hai                         2003.0  2003.0\n"
     ]
    }
   ],
   "source": [
    "# Step 3: Sort the result in descending order by Age\n",
    "sorted_release_year_stats = release_year_stats.sort_values(by='mean', ascending=False)\n",
    "\n",
    "print(\"\\nSorted by release_year (descending):\")\n",
    "print(sorted_release_year_stats)\n"
   ]
  },
  {
   "cell_type": "code",
   "execution_count": 523,
   "id": "05daad44-7885-4bc9-9af2-5c407efa480a",
   "metadata": {},
   "outputs": [
    {
     "name": "stdout",
     "output_type": "stream",
     "text": [
      "Normalized 'release_year' column:\n",
      "       release_year  release_year_Normalized\n",
      "Row_1          2020                 0.959596\n",
      "Row_2          2021                 0.969697\n",
      "Row_3          2021                 0.969697\n",
      "Row_4          2021                 0.969697\n",
      "Row_5          1993                 0.686869\n"
     ]
    }
   ],
   "source": [
    "#3. Multiple Data Transformations and Merging:\n",
    "\n",
    "#step 1: Normalize the release_year column:\n",
    "import pandas as pd\n",
    "from sklearn.preprocessing import MinMaxScaler\n",
    "\n",
    "# Ensure 'release_year' is numeric\n",
    "df.loc[:, 'release_year'] = pd.to_numeric(df['release_year'], errors='coerce')\n",
    "\n",
    "# Initialize MinMaxScaler\n",
    "scaler = MinMaxScaler()\n",
    "\n",
    "# Normalize the 'release_year' column\n",
    "df.loc[:, 'release_year_Normalized'] = scaler.fit_transform(df[['release_year']])\n",
    "\n",
    "print(\"Normalized 'release_year' column:\")\n",
    "print(df[['release_year', 'release_year_Normalized']].head())"
   ]
  },
  {
   "cell_type": "code",
   "execution_count": 527,
   "id": "54eb5746-c0cc-43e9-9274-9847045d8f7e",
   "metadata": {},
   "outputs": [
    {
     "name": "stdout",
     "output_type": "stream",
     "text": [
      "\n",
      "release_year column with negative values replaced by median:\n",
      "       release_year\n",
      "Row_1          2020\n",
      "Row_2          2021\n",
      "Row_3          2021\n",
      "Row_4          2021\n",
      "Row_5          1993\n"
     ]
    }
   ],
   "source": [
    "# step 2: Replace negative values in release_year:\n",
    "df.loc[:, 'release_year'] = pd.to_numeric(df['release_year'], errors='coerce')\n",
    "\n",
    "# Calculate the median age\n",
    "median_age = df['release_year'].median()\n",
    "\n",
    "# Replace negative ages with median age\n",
    "df.loc[:, 'release_year'] = df['release_year'].apply(lambda x: median_age if x < 0 else x)\n",
    "\n",
    "print(\"\\nrelease_year column with negative values replaced by median:\")\n",
    "print(df[['release_year']].head())\n"
   ]
  },
  {
   "cell_type": "code",
   "execution_count": 539,
   "id": "cfd2b3aa-d0f5-4fd3-b197-875511cd02a8",
   "metadata": {},
   "outputs": [
    {
     "name": "stdout",
     "output_type": "stream",
     "text": [
      "Merged DataFrame (first 5 rows):\n",
      "Empty DataFrame\n",
      "Columns: [origin, release_year, title, show_id, type, director, cast, rating, duration, listed_in, description, origin_first_3_chars, First_Actor, duration_normalized, release_year_Normalized, Price]\n",
      "Index: []\n"
     ]
    }
   ],
   "source": [
    "# step 3:#  Merge both DataFrames:\n",
    "import pandas as pd\n",
    "\n",
    "# Sample product_data DataFrame\n",
    "product_data = pd.DataFrame({\n",
    "    'title': ['Movie A', 'Movie B', 'Movie C', 'Movie D', 'Movie E'],\n",
    "    'Price': [100, 150, 200, 250, 300]\n",
    "})\n",
    "\n",
    "# Merge on 'title'\n",
    "merged_df = pd.merge(df, product_data, on='title', how='inner')\n",
    "\n",
    "print(\"Merged DataFrame (first 5 rows):\")\n",
    "print(merged_df.head())\n",
    "\n"
   ]
  },
  {
   "cell_type": "code",
   "execution_count": 552,
   "id": "b374da11-237e-4bef-abc3-e3ad960df856",
   "metadata": {},
   "outputs": [
    {
     "name": "stdout",
     "output_type": "stream",
     "text": [
      "Original Product DataFrame:\n",
      "   Product ID Product Name  Quantity  Price\n",
      "0         101       Laptop         5    700\n",
      "1         102        Mouse        10     20\n",
      "2         103     Keyboard         8     50\n",
      "3         104      Monitor         4    150\n",
      "4         105        Phone         6    600\n",
      "5         106       Tablet         7    300\n",
      "6         107   Headphones         9    100\n",
      "7         108      Charger         3     25\n",
      "8         109       Camera         2    400\n",
      "9         110      Printer         1    200\n"
     ]
    }
   ],
   "source": [
    "#Task 1: Product DataFrame with \"Total Value\" calculation\n",
    "\n",
    "#Step 1: Create the DataFrame\n",
    "\n",
    "import pandas as pd\n",
    "\n",
    "# Create Product DataFrame\n",
    "product_data = pd.DataFrame({\n",
    "    'Product ID': [101, 102, 103, 104, 105, 106, 107, 108, 109, 110],\n",
    "    'Product Name': ['Laptop', 'Mouse', 'Keyboard', 'Monitor', 'Phone', \n",
    "                     'Tablet', 'Headphones', 'Charger', 'Camera', 'Printer'],\n",
    "    'Quantity': [5, 10, 8, 4, 6, 7, 9, 3, 2, 1],\n",
    "    'Price': [700, 20, 50, 150, 600, 300, 100, 25, 400, 200]\n",
    "})\n",
    "\n",
    "# Save the original DataFrame\n",
    "product_data.to_excel('Original_Product_Data.xlsx', index=False)\n",
    "\n",
    "print(\"Original Product DataFrame:\")\n",
    "print(product_data)\n"
   ]
  },
  {
   "cell_type": "code",
   "execution_count": 554,
   "id": "c92fef4b-243f-46e9-8776-ebec60d5f172",
   "metadata": {},
   "outputs": [
    {
     "name": "stdout",
     "output_type": "stream",
     "text": [
      "\n",
      "Modified Product DataFrame with 'Total Value':\n",
      "   Product ID Product Name  Quantity  Price  Total Value\n",
      "0         101       Laptop         5    700         3500\n",
      "1         102        Mouse        10     20          200\n",
      "2         103     Keyboard         8     50          400\n",
      "3         104      Monitor         4    150          600\n",
      "4         105        Phone         6    600         3600\n",
      "5         106       Tablet         7    300         2100\n",
      "6         107   Headphones         9    100          900\n",
      "7         108      Charger         3     25           75\n",
      "8         109       Camera         2    400          800\n",
      "9         110      Printer         1    200          200\n"
     ]
    }
   ],
   "source": [
    "#Step 2: Calculate \"Total Value\" and export\n",
    "# Calculate Total Value (Quantity * Price)\n",
    "product_data['Total Value'] = product_data['Quantity'] * product_data['Price']\n",
    "\n",
    "# Export to Excel\n",
    "product_data.to_excel('Modified_Product_Data.xlsx', index=False)\n",
    "\n",
    "print(\"\\nModified Product DataFrame with 'Total Value':\")\n",
    "print(product_data)\n"
   ]
  },
  {
   "cell_type": "code",
   "execution_count": 558,
   "id": "03cd3f60-c85a-4b31-aea0-950593b1e23f",
   "metadata": {},
   "outputs": [
    {
     "name": "stdout",
     "output_type": "stream",
     "text": [
      "Original Student DataFrame:\n",
      "   Student ID     Name Grade  Score\n",
      "0           1    Alice     A     85\n",
      "1           2      Bob     B     40\n",
      "2           3  Charlie     C     75\n",
      "3           4    David     A     30\n",
      "4           5     Ella     B     90\n",
      "5           6    Frank     C     45\n",
      "6           7    Grace     A     60\n",
      "7           8   Hannah     B     55\n",
      "8           9      Ian     C     20\n",
      "9          10     Jane     A     80\n"
     ]
    }
   ],
   "source": [
    "#Task 2: Student DataFrame with \"Pass/Fail\" status\n",
    "#Step 1: Create the DataFrame\n",
    "# Create Student DataFrame\n",
    "student_data = pd.DataFrame({\n",
    "    'Student ID': [1, 2, 3, 4, 5, 6, 7, 8, 9, 10],\n",
    "    'Name': ['Alice', 'Bob', 'Charlie', 'David', 'Ella', \n",
    "              'Frank', 'Grace', 'Hannah', 'Ian', 'Jane'],\n",
    "    'Grade': ['A', 'B', 'C', 'A', 'B', 'C', 'A', 'B', 'C', 'A'],\n",
    "    'Score': [85, 40, 75, 30, 90, 45, 60, 55, 20, 80]\n",
    "})\n",
    "\n",
    "# Save the original DataFrame\n",
    "student_data.to_excel('Original_Student_Data.xlsx', index=False)\n",
    "\n",
    "print(\"Original Student DataFrame:\")\n",
    "print(student_data)\n"
   ]
  },
  {
   "cell_type": "code",
   "execution_count": 560,
   "id": "125aca45-b71d-4993-a202-f4e1a111d7c6",
   "metadata": {},
   "outputs": [
    {
     "name": "stdout",
     "output_type": "stream",
     "text": [
      "\n",
      "Modified Student DataFrame with 'Pass/Fail':\n",
      "   Student ID     Name Grade  Score Pass/Fail\n",
      "0           1    Alice     A     85      Pass\n",
      "1           2      Bob     B     40      Fail\n",
      "2           3  Charlie     C     75      Pass\n",
      "3           4    David     A     30      Fail\n",
      "4           5     Ella     B     90      Pass\n",
      "5           6    Frank     C     45      Fail\n",
      "6           7    Grace     A     60      Pass\n",
      "7           8   Hannah     B     55      Pass\n",
      "8           9      Ian     C     20      Fail\n",
      "9          10     Jane     A     80      Pass\n"
     ]
    }
   ],
   "source": [
    "# Assign Pass/Fail based on Score\n",
    "student_data['Pass/Fail'] = student_data['Score'].apply(lambda x: 'Pass' if x >= 50 else 'Fail')\n",
    "\n",
    "# Export to Excel\n",
    "student_data.to_excel('Modified_Student_Data.xlsx', index=False)\n",
    "\n",
    "print(\"\\nModified Student DataFrame with 'Pass/Fail':\")\n",
    "print(student_data)\n"
   ]
  },
  {
   "cell_type": "code",
   "execution_count": 562,
   "id": "82ecb154-cc0f-4fc4-bbf1-2c64f27fe48d",
   "metadata": {},
   "outputs": [
    {
     "name": "stdout",
     "output_type": "stream",
     "text": [
      "Student data saved to CSV and Excel.\n"
     ]
    }
   ],
   "source": [
    "#Task 1: Student Data — Pass/Fail Status\n",
    "#Step 1: Create CSV and Excel files with student data\n",
    "#CSV file (students.csv):\n",
    "import pandas as pd\n",
    "\n",
    "# Create student data\n",
    "student_data = pd.DataFrame({\n",
    "    'Student ID': [1, 2, 3, 4, 5],\n",
    "    'Name': ['Alice', 'Bob', 'Charlie', 'David', 'Ella'],\n",
    "    'Grade': ['A', 'B', 'C', 'B', 'A'],\n",
    "    'Score': [85, 40, 75, 30, 90]\n",
    "})\n",
    "\n",
    "# Save to CSV and Excel\n",
    "student_data.to_csv('students.csv', index=False)\n",
    "student_data.to_excel('students.xlsx', index=False)\n",
    "\n",
    "print(\"Student data saved to CSV and Excel.\")\n"
   ]
  },
  {
   "cell_type": "code",
   "execution_count": 564,
   "id": "5753a6e4-6094-44ea-9453-6b6e5ce641ad",
   "metadata": {},
   "outputs": [
    {
     "name": "stdout",
     "output_type": "stream",
     "text": [
      "Modified student data saved.\n",
      "   Student ID     Name Grade  Score Pass/Fail\n",
      "0           1    Alice     A     85      Pass\n",
      "1           2      Bob     B     40      Fail\n",
      "2           3  Charlie     C     75      Pass\n",
      "3           4    David     B     30      Fail\n",
      "4           5     Ella     A     90      Pass\n"
     ]
    }
   ],
   "source": [
    "#Step 2: Load the files and assign Pass/Fail\n",
    "# Load CSV and Excel files\n",
    "students_csv = pd.read_csv('students.csv')\n",
    "students_excel = pd.read_excel('students.xlsx')\n",
    "\n",
    "# Add 'Pass/Fail' column\n",
    "students_csv['Pass/Fail'] = students_csv['Score'].apply(lambda x: 'Pass' if x >= 50 else 'Fail')\n",
    "students_excel['Pass/Fail'] = students_excel['Score'].apply(lambda x: 'Pass' if x >= 50 else 'Fail')\n",
    "\n",
    "# Save the modified files\n",
    "students_csv.to_csv('students_modified.csv', index=False)\n",
    "students_excel.to_excel('students_modified.xlsx', index=False)\n",
    "\n",
    "print(\"Modified student data saved.\")\n",
    "print(students_csv)\n"
   ]
  },
  {
   "cell_type": "code",
   "execution_count": 566,
   "id": "220c0169-5182-478e-b6e1-c88cba494132",
   "metadata": {},
   "outputs": [
    {
     "name": "stdout",
     "output_type": "stream",
     "text": [
      "City data saved to CSV and Excel.\n"
     ]
    }
   ],
   "source": [
    "#Task 2: City Data — Population Density\n",
    "#Step 1: Create CSV and Excel files with city data\n",
    "#CSV file (cities.csv):\n",
    "# Create city data\n",
    "city_data = pd.DataFrame({\n",
    "    'City': ['New York', 'Los Angeles', 'Chicago', 'Houston', 'Phoenix'],\n",
    "    'Country': ['USA', 'USA', 'USA', 'USA', 'USA'],\n",
    "    'Population': [8419600, 3980400, 2716000, 2328000, 1690000],\n",
    "    'Area': [783.8, 1302, 589, 1651, 1340]\n",
    "})\n",
    "\n",
    "# Save to CSV and Excel\n",
    "city_data.to_csv('cities.csv', index=False)\n",
    "city_data.to_excel('cities.xlsx', index=False)\n",
    "\n",
    "print(\"City data saved to CSV and Excel.\")\n"
   ]
  },
  {
   "cell_type": "code",
   "execution_count": 568,
   "id": "0e239276-cf09-46b7-b62d-e148c2385513",
   "metadata": {},
   "outputs": [
    {
     "name": "stdout",
     "output_type": "stream",
     "text": [
      "Modified city data saved.\n",
      "          City Country  Population    Area  Population Density\n",
      "0     New York     USA     8419600   783.8        10742.026027\n",
      "1  Los Angeles     USA     3980400  1302.0         3057.142857\n",
      "2      Chicago     USA     2716000   589.0         4611.205433\n",
      "3      Houston     USA     2328000  1651.0         1410.054512\n",
      "4      Phoenix     USA     1690000  1340.0         1261.194030\n"
     ]
    }
   ],
   "source": [
    "#Step 2: Load the files and calculate Population Density\n",
    "\n",
    "# Load CSV and Excel files\n",
    "cities_csv = pd.read_csv('cities.csv')\n",
    "cities_excel = pd.read_excel('cities.xlsx')\n",
    "\n",
    "# Calculate Population Density\n",
    "cities_csv['Population Density'] = cities_csv['Population'] / cities_csv['Area']\n",
    "cities_excel['Population Density'] = cities_excel['Population'] / cities_excel['Area']\n",
    "\n",
    "# Save the modified files\n",
    "cities_csv.to_csv('cities_modified.csv', index=False)\n",
    "cities_excel.to_excel('cities_modified.xlsx', index=False)\n",
    "\n",
    "print(\"Modified city data saved.\")\n",
    "print(cities_csv)\n"
   ]
  },
  {
   "cell_type": "code",
   "execution_count": null,
   "id": "6e0a2618-f810-4e79-8f57-5d04b360800c",
   "metadata": {},
   "outputs": [],
   "source": []
  }
 ],
 "metadata": {
  "kernelspec": {
   "display_name": "Python [conda env:base] *",
   "language": "python",
   "name": "conda-base-py"
  },
  "language_info": {
   "codemirror_mode": {
    "name": "ipython",
    "version": 3
   },
   "file_extension": ".py",
   "mimetype": "text/x-python",
   "name": "python",
   "nbconvert_exporter": "python",
   "pygments_lexer": "ipython3",
   "version": "3.12.7"
  }
 },
 "nbformat": 4,
 "nbformat_minor": 5
}
